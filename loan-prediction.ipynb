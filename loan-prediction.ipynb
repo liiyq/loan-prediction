{
  "cells": [
    {
      "cell_type": "code",
      "execution_count": 1,
      "metadata": {
        "id": "tyig0CV9PAI1"
      },
      "outputs": [],
      "source": [
        "import numpy as np\n",
        "import pandas as pd\n",
        "import matplotlib.pyplot as plt\n",
        "import seaborn as sns\n",
        "\n",
        "%matplotlib inline\n",
        "\n",
        "\n",
        "import plotly.express as px\n",
        "import plotly.graph_objects as go\n",
        "from plotly.subplots import make_subplots\n",
        "import altair as alt"
      ]
    },
    {
      "cell_type": "markdown",
      "metadata": {
        "id": "F4fd9x7sPAI2"
      },
      "source": [
        "# Data Loading and Cleaning"
      ]
    },
    {
      "cell_type": "markdown",
      "metadata": {
        "id": "vgvMudaUPAI3"
      },
      "source": [
        "## Data Loading"
      ]
    },
    {
      "cell_type": "code",
      "execution_count": 2,
      "metadata": {
        "id": "hxwCdpWMPAI3"
      },
      "outputs": [],
      "source": [
        "# Load dataset\n",
        "train = pd.read_csv('/Users/emmali/Downloads/train_data.csv')\n",
        "predict = pd.read_csv('/Users/emmali/Downloads/test_data.csv')"
      ]
    },
    {
      "cell_type": "code",
      "execution_count": 3,
      "metadata": {
        "id": "0_fGaswRPAI4"
      },
      "outputs": [],
      "source": [
        "# Make copy so do not hamper the original datasets\n",
        "train_original = train.copy()\n",
        "predict_original = predict.copy()"
      ]
    },
    {
      "cell_type": "code",
      "execution_count": 4,
      "metadata": {
        "colab": {
          "base_uri": "https://localhost:8080/",
          "height": 244
        },
        "id": "YjSJsZ6lPAI4",
        "outputId": "893737ff-ed87-422f-ac11-bbdc847e878d"
      },
      "outputs": [
        {
          "data": {
            "text/html": [
              "<div>\n",
              "<style scoped>\n",
              "    .dataframe tbody tr th:only-of-type {\n",
              "        vertical-align: middle;\n",
              "    }\n",
              "\n",
              "    .dataframe tbody tr th {\n",
              "        vertical-align: top;\n",
              "    }\n",
              "\n",
              "    .dataframe thead th {\n",
              "        text-align: right;\n",
              "    }\n",
              "</style>\n",
              "<table border=\"1\" class=\"dataframe\">\n",
              "  <thead>\n",
              "    <tr style=\"text-align: right;\">\n",
              "      <th></th>\n",
              "      <th>Loan_ID</th>\n",
              "      <th>Gender</th>\n",
              "      <th>Married</th>\n",
              "      <th>Dependents</th>\n",
              "      <th>Education</th>\n",
              "      <th>Self_Employed</th>\n",
              "      <th>ApplicantIncome</th>\n",
              "      <th>CoapplicantIncome</th>\n",
              "      <th>LoanAmount</th>\n",
              "      <th>Loan_Amount_Term</th>\n",
              "      <th>Credit_History</th>\n",
              "      <th>Property_Area</th>\n",
              "      <th>Loan_Status</th>\n",
              "    </tr>\n",
              "  </thead>\n",
              "  <tbody>\n",
              "    <tr>\n",
              "      <th>0</th>\n",
              "      <td>LP001002</td>\n",
              "      <td>Male</td>\n",
              "      <td>No</td>\n",
              "      <td>0</td>\n",
              "      <td>Graduate</td>\n",
              "      <td>No</td>\n",
              "      <td>5849</td>\n",
              "      <td>0.0</td>\n",
              "      <td>NaN</td>\n",
              "      <td>360.0</td>\n",
              "      <td>1.0</td>\n",
              "      <td>Urban</td>\n",
              "      <td>Y</td>\n",
              "    </tr>\n",
              "    <tr>\n",
              "      <th>1</th>\n",
              "      <td>LP001003</td>\n",
              "      <td>Male</td>\n",
              "      <td>Yes</td>\n",
              "      <td>1</td>\n",
              "      <td>Graduate</td>\n",
              "      <td>No</td>\n",
              "      <td>4583</td>\n",
              "      <td>1508.0</td>\n",
              "      <td>128.0</td>\n",
              "      <td>360.0</td>\n",
              "      <td>1.0</td>\n",
              "      <td>Rural</td>\n",
              "      <td>N</td>\n",
              "    </tr>\n",
              "    <tr>\n",
              "      <th>2</th>\n",
              "      <td>LP001005</td>\n",
              "      <td>Male</td>\n",
              "      <td>Yes</td>\n",
              "      <td>0</td>\n",
              "      <td>Graduate</td>\n",
              "      <td>Yes</td>\n",
              "      <td>3000</td>\n",
              "      <td>0.0</td>\n",
              "      <td>66.0</td>\n",
              "      <td>360.0</td>\n",
              "      <td>1.0</td>\n",
              "      <td>Urban</td>\n",
              "      <td>Y</td>\n",
              "    </tr>\n",
              "    <tr>\n",
              "      <th>3</th>\n",
              "      <td>LP001006</td>\n",
              "      <td>Male</td>\n",
              "      <td>Yes</td>\n",
              "      <td>0</td>\n",
              "      <td>Not Graduate</td>\n",
              "      <td>No</td>\n",
              "      <td>2583</td>\n",
              "      <td>2358.0</td>\n",
              "      <td>120.0</td>\n",
              "      <td>360.0</td>\n",
              "      <td>1.0</td>\n",
              "      <td>Urban</td>\n",
              "      <td>Y</td>\n",
              "    </tr>\n",
              "    <tr>\n",
              "      <th>4</th>\n",
              "      <td>LP001008</td>\n",
              "      <td>Male</td>\n",
              "      <td>No</td>\n",
              "      <td>0</td>\n",
              "      <td>Graduate</td>\n",
              "      <td>No</td>\n",
              "      <td>6000</td>\n",
              "      <td>0.0</td>\n",
              "      <td>141.0</td>\n",
              "      <td>360.0</td>\n",
              "      <td>1.0</td>\n",
              "      <td>Urban</td>\n",
              "      <td>Y</td>\n",
              "    </tr>\n",
              "  </tbody>\n",
              "</table>\n",
              "</div>"
            ],
            "text/plain": [
              "    Loan_ID Gender Married Dependents     Education Self_Employed  \\\n",
              "0  LP001002   Male      No          0      Graduate            No   \n",
              "1  LP001003   Male     Yes          1      Graduate            No   \n",
              "2  LP001005   Male     Yes          0      Graduate           Yes   \n",
              "3  LP001006   Male     Yes          0  Not Graduate            No   \n",
              "4  LP001008   Male      No          0      Graduate            No   \n",
              "\n",
              "   ApplicantIncome  CoapplicantIncome  LoanAmount  Loan_Amount_Term  \\\n",
              "0             5849                0.0         NaN             360.0   \n",
              "1             4583             1508.0       128.0             360.0   \n",
              "2             3000                0.0        66.0             360.0   \n",
              "3             2583             2358.0       120.0             360.0   \n",
              "4             6000                0.0       141.0             360.0   \n",
              "\n",
              "   Credit_History Property_Area Loan_Status  \n",
              "0             1.0         Urban           Y  \n",
              "1             1.0         Rural           N  \n",
              "2             1.0         Urban           Y  \n",
              "3             1.0         Urban           Y  \n",
              "4             1.0         Urban           Y  "
            ]
          },
          "execution_count": 4,
          "metadata": {},
          "output_type": "execute_result"
        }
      ],
      "source": [
        "train.head()"
      ]
    },
    {
      "cell_type": "code",
      "execution_count": 5,
      "metadata": {
        "colab": {
          "base_uri": "https://localhost:8080/",
          "height": 244
        },
        "id": "2weNR-mVPAI4",
        "outputId": "7e58ce28-2bcb-4ecd-e613-72579b2a7dae"
      },
      "outputs": [
        {
          "data": {
            "text/html": [
              "<div>\n",
              "<style scoped>\n",
              "    .dataframe tbody tr th:only-of-type {\n",
              "        vertical-align: middle;\n",
              "    }\n",
              "\n",
              "    .dataframe tbody tr th {\n",
              "        vertical-align: top;\n",
              "    }\n",
              "\n",
              "    .dataframe thead th {\n",
              "        text-align: right;\n",
              "    }\n",
              "</style>\n",
              "<table border=\"1\" class=\"dataframe\">\n",
              "  <thead>\n",
              "    <tr style=\"text-align: right;\">\n",
              "      <th></th>\n",
              "      <th>Loan_ID</th>\n",
              "      <th>Gender</th>\n",
              "      <th>Married</th>\n",
              "      <th>Dependents</th>\n",
              "      <th>Education</th>\n",
              "      <th>Self_Employed</th>\n",
              "      <th>ApplicantIncome</th>\n",
              "      <th>CoapplicantIncome</th>\n",
              "      <th>LoanAmount</th>\n",
              "      <th>Loan_Amount_Term</th>\n",
              "      <th>Credit_History</th>\n",
              "      <th>Property_Area</th>\n",
              "    </tr>\n",
              "  </thead>\n",
              "  <tbody>\n",
              "    <tr>\n",
              "      <th>0</th>\n",
              "      <td>LP001015</td>\n",
              "      <td>Male</td>\n",
              "      <td>Yes</td>\n",
              "      <td>0</td>\n",
              "      <td>Graduate</td>\n",
              "      <td>No</td>\n",
              "      <td>5720</td>\n",
              "      <td>0</td>\n",
              "      <td>110.0</td>\n",
              "      <td>360.0</td>\n",
              "      <td>1.0</td>\n",
              "      <td>Urban</td>\n",
              "    </tr>\n",
              "    <tr>\n",
              "      <th>1</th>\n",
              "      <td>LP001022</td>\n",
              "      <td>Male</td>\n",
              "      <td>Yes</td>\n",
              "      <td>1</td>\n",
              "      <td>Graduate</td>\n",
              "      <td>No</td>\n",
              "      <td>3076</td>\n",
              "      <td>1500</td>\n",
              "      <td>126.0</td>\n",
              "      <td>360.0</td>\n",
              "      <td>1.0</td>\n",
              "      <td>Urban</td>\n",
              "    </tr>\n",
              "    <tr>\n",
              "      <th>2</th>\n",
              "      <td>LP001031</td>\n",
              "      <td>Male</td>\n",
              "      <td>Yes</td>\n",
              "      <td>2</td>\n",
              "      <td>Graduate</td>\n",
              "      <td>No</td>\n",
              "      <td>5000</td>\n",
              "      <td>1800</td>\n",
              "      <td>208.0</td>\n",
              "      <td>360.0</td>\n",
              "      <td>1.0</td>\n",
              "      <td>Urban</td>\n",
              "    </tr>\n",
              "    <tr>\n",
              "      <th>3</th>\n",
              "      <td>LP001035</td>\n",
              "      <td>Male</td>\n",
              "      <td>Yes</td>\n",
              "      <td>2</td>\n",
              "      <td>Graduate</td>\n",
              "      <td>No</td>\n",
              "      <td>2340</td>\n",
              "      <td>2546</td>\n",
              "      <td>100.0</td>\n",
              "      <td>360.0</td>\n",
              "      <td>NaN</td>\n",
              "      <td>Urban</td>\n",
              "    </tr>\n",
              "    <tr>\n",
              "      <th>4</th>\n",
              "      <td>LP001051</td>\n",
              "      <td>Male</td>\n",
              "      <td>No</td>\n",
              "      <td>0</td>\n",
              "      <td>Not Graduate</td>\n",
              "      <td>No</td>\n",
              "      <td>3276</td>\n",
              "      <td>0</td>\n",
              "      <td>78.0</td>\n",
              "      <td>360.0</td>\n",
              "      <td>1.0</td>\n",
              "      <td>Urban</td>\n",
              "    </tr>\n",
              "  </tbody>\n",
              "</table>\n",
              "</div>"
            ],
            "text/plain": [
              "    Loan_ID Gender Married Dependents     Education Self_Employed  \\\n",
              "0  LP001015   Male     Yes          0      Graduate            No   \n",
              "1  LP001022   Male     Yes          1      Graduate            No   \n",
              "2  LP001031   Male     Yes          2      Graduate            No   \n",
              "3  LP001035   Male     Yes          2      Graduate            No   \n",
              "4  LP001051   Male      No          0  Not Graduate            No   \n",
              "\n",
              "   ApplicantIncome  CoapplicantIncome  LoanAmount  Loan_Amount_Term  \\\n",
              "0             5720                  0       110.0             360.0   \n",
              "1             3076               1500       126.0             360.0   \n",
              "2             5000               1800       208.0             360.0   \n",
              "3             2340               2546       100.0             360.0   \n",
              "4             3276                  0        78.0             360.0   \n",
              "\n",
              "   Credit_History Property_Area  \n",
              "0             1.0         Urban  \n",
              "1             1.0         Urban  \n",
              "2             1.0         Urban  \n",
              "3             NaN         Urban  \n",
              "4             1.0         Urban  "
            ]
          },
          "execution_count": 5,
          "metadata": {},
          "output_type": "execute_result"
        }
      ],
      "source": [
        "predict.head()"
      ]
    },
    {
      "cell_type": "markdown",
      "metadata": {
        "id": "AMgtS5iLPAI5"
      },
      "source": [
        "## Data Cleaning"
      ]
    },
    {
      "cell_type": "code",
      "execution_count": 6,
      "metadata": {
        "colab": {
          "base_uri": "https://localhost:8080/"
        },
        "id": "4GvU9FQUPAI5",
        "outputId": "6aa13c38-5edb-468c-d95e-4f7710f10bab"
      },
      "outputs": [
        {
          "name": "stdout",
          "output_type": "stream",
          "text": [
            "<class 'pandas.core.frame.DataFrame'>\n",
            "RangeIndex: 614 entries, 0 to 613\n",
            "Data columns (total 13 columns):\n",
            " #   Column             Non-Null Count  Dtype  \n",
            "---  ------             --------------  -----  \n",
            " 0   Loan_ID            614 non-null    object \n",
            " 1   Gender             601 non-null    object \n",
            " 2   Married            611 non-null    object \n",
            " 3   Dependents         599 non-null    object \n",
            " 4   Education          614 non-null    object \n",
            " 5   Self_Employed      582 non-null    object \n",
            " 6   ApplicantIncome    614 non-null    int64  \n",
            " 7   CoapplicantIncome  614 non-null    float64\n",
            " 8   LoanAmount         592 non-null    float64\n",
            " 9   Loan_Amount_Term   600 non-null    float64\n",
            " 10  Credit_History     564 non-null    float64\n",
            " 11  Property_Area      614 non-null    object \n",
            " 12  Loan_Status        614 non-null    object \n",
            "dtypes: float64(4), int64(1), object(8)\n",
            "memory usage: 62.5+ KB\n"
          ]
        }
      ],
      "source": [
        "train.info()"
      ]
    },
    {
      "cell_type": "code",
      "execution_count": 7,
      "metadata": {
        "colab": {
          "base_uri": "https://localhost:8080/",
          "height": 492
        },
        "id": "yPs_Xq6gPAI5",
        "outputId": "ceb9c827-8854-4a0e-b6ea-cbeaecd62eb6"
      },
      "outputs": [
        {
          "data": {
            "text/plain": [
              "Loan_ID               0\n",
              "Gender               13\n",
              "Married               3\n",
              "Dependents           15\n",
              "Education             0\n",
              "Self_Employed        32\n",
              "ApplicantIncome       0\n",
              "CoapplicantIncome     0\n",
              "LoanAmount           22\n",
              "Loan_Amount_Term     14\n",
              "Credit_History       50\n",
              "Property_Area         0\n",
              "Loan_Status           0\n",
              "dtype: int64"
            ]
          },
          "execution_count": 7,
          "metadata": {},
          "output_type": "execute_result"
        }
      ],
      "source": [
        "train.isnull().sum()"
      ]
    },
    {
      "cell_type": "code",
      "execution_count": 8,
      "metadata": {
        "colab": {
          "base_uri": "https://localhost:8080/"
        },
        "id": "CNV2t45xPAI5",
        "outputId": "c63abb97-3543-407f-c914-3a28efbaad5f"
      },
      "outputs": [
        {
          "data": {
            "text/plain": [
              "0"
            ]
          },
          "execution_count": 8,
          "metadata": {},
          "output_type": "execute_result"
        }
      ],
      "source": [
        "train.duplicated().sum()"
      ]
    },
    {
      "cell_type": "code",
      "execution_count": 9,
      "metadata": {
        "colab": {
          "base_uri": "https://localhost:8080/",
          "height": 460
        },
        "id": "-igXoJzlPAI5",
        "outputId": "6d115b77-6442-4f8a-ae91-76d29c5e72d0"
      },
      "outputs": [
        {
          "data": {
            "text/plain": [
              "Loan_ID               0\n",
              "Gender               11\n",
              "Married               0\n",
              "Dependents           10\n",
              "Education             0\n",
              "Self_Employed        23\n",
              "ApplicantIncome       0\n",
              "CoapplicantIncome     0\n",
              "LoanAmount            5\n",
              "Loan_Amount_Term      6\n",
              "Credit_History       29\n",
              "Property_Area         0\n",
              "dtype: int64"
            ]
          },
          "execution_count": 9,
          "metadata": {},
          "output_type": "execute_result"
        }
      ],
      "source": [
        "predict.isnull().sum()"
      ]
    },
    {
      "cell_type": "code",
      "execution_count": 10,
      "metadata": {
        "colab": {
          "base_uri": "https://localhost:8080/"
        },
        "id": "pFgFfA3-PAI5",
        "outputId": "51ccca39-d892-4bc6-f23a-113b0a5ce500"
      },
      "outputs": [
        {
          "data": {
            "text/plain": [
              "0"
            ]
          },
          "execution_count": 10,
          "metadata": {},
          "output_type": "execute_result"
        }
      ],
      "source": [
        "predict.duplicated().sum()"
      ]
    },
    {
      "cell_type": "markdown",
      "metadata": {
        "id": "bcAoeoo7PAI5"
      },
      "source": [
        "### Method 1: Using mode to fill na"
      ]
    },
    {
      "cell_type": "code",
      "execution_count": 11,
      "metadata": {
        "id": "KPAaDMalPAI5"
      },
      "outputs": [],
      "source": [
        "for column in train.columns:\n",
        "    mode_value = train[column].mode()[0]\n",
        "    train[column].fillna(mode_value, inplace=True)\n",
        "\n",
        "for column in predict.columns:\n",
        "    mode_value = predict[column].mode()[0]\n",
        "    predict[column].fillna(mode_value, inplace=True)"
      ]
    },
    {
      "cell_type": "code",
      "execution_count": 12,
      "metadata": {
        "colab": {
          "base_uri": "https://localhost:8080/",
          "height": 492
        },
        "id": "zmmJva4HPAI5",
        "outputId": "a9a42edb-39a0-4b8e-f180-08ff63be8131"
      },
      "outputs": [
        {
          "data": {
            "text/plain": [
              "Loan_ID              0\n",
              "Gender               0\n",
              "Married              0\n",
              "Dependents           0\n",
              "Education            0\n",
              "Self_Employed        0\n",
              "ApplicantIncome      0\n",
              "CoapplicantIncome    0\n",
              "LoanAmount           0\n",
              "Loan_Amount_Term     0\n",
              "Credit_History       0\n",
              "Property_Area        0\n",
              "Loan_Status          0\n",
              "dtype: int64"
            ]
          },
          "execution_count": 12,
          "metadata": {},
          "output_type": "execute_result"
        }
      ],
      "source": [
        "train.isnull().sum()"
      ]
    },
    {
      "cell_type": "code",
      "execution_count": 13,
      "metadata": {
        "colab": {
          "base_uri": "https://localhost:8080/",
          "height": 460
        },
        "id": "-GReZVI_PAI5",
        "outputId": "761e1757-fbbb-4409-ed5a-14c5c5240ae5"
      },
      "outputs": [
        {
          "data": {
            "text/plain": [
              "Loan_ID              0\n",
              "Gender               0\n",
              "Married              0\n",
              "Dependents           0\n",
              "Education            0\n",
              "Self_Employed        0\n",
              "ApplicantIncome      0\n",
              "CoapplicantIncome    0\n",
              "LoanAmount           0\n",
              "Loan_Amount_Term     0\n",
              "Credit_History       0\n",
              "Property_Area        0\n",
              "dtype: int64"
            ]
          },
          "execution_count": 13,
          "metadata": {},
          "output_type": "execute_result"
        }
      ],
      "source": [
        "predict.isnull().sum()"
      ]
    },
    {
      "cell_type": "markdown",
      "metadata": {
        "id": "z5mpC02NPAI5"
      },
      "source": [
        "### Method 2: using KNN model to fill na"
      ]
    },
    {
      "cell_type": "code",
      "execution_count": 14,
      "metadata": {
        "id": "Hs7a3GLxPAI5"
      },
      "outputs": [],
      "source": [
        "from sklearn.preprocessing import LabelEncoder\n",
        "from sklearn.impute import KNNImputer\n",
        "\n",
        "train = pd.read_csv('train_data.csv')\n",
        "predict = pd.read_csv('test_data.csv')\n",
        "\n",
        "train = train.drop('Loan_ID', axis=1)\n",
        "predict = predict.drop('Loan_ID', axis=1)"
      ]
    },
    {
      "cell_type": "code",
      "execution_count": 15,
      "metadata": {
        "id": "3-YjLUYmPAI5"
      },
      "outputs": [
        {
          "name": "stderr",
          "output_type": "stream",
          "text": [
            "/var/folders/4c/8l6l08nj1gz4mkln9mdw_t_80000gn/T/ipykernel_44935/183654356.py:12: DeprecationWarning: In a future version, `df.iloc[:, i] = newvals` will attempt to set the values inplace instead of always setting a new array. To retain the old behavior, use either `df[df.columns[i]] = newvals` or, if columns are non-unique, `df.isetitem(i, newvals)`\n",
            "  encoded_df.loc[not_null, column] = le.fit_transform(encoded_df.loc[not_null, column])\n",
            "/var/folders/4c/8l6l08nj1gz4mkln9mdw_t_80000gn/T/ipykernel_44935/183654356.py:12: DeprecationWarning: In a future version, `df.iloc[:, i] = newvals` will attempt to set the values inplace instead of always setting a new array. To retain the old behavior, use either `df[df.columns[i]] = newvals` or, if columns are non-unique, `df.isetitem(i, newvals)`\n",
            "  encoded_df.loc[not_null, column] = le.fit_transform(encoded_df.loc[not_null, column])\n",
            "/var/folders/4c/8l6l08nj1gz4mkln9mdw_t_80000gn/T/ipykernel_44935/183654356.py:12: DeprecationWarning: In a future version, `df.iloc[:, i] = newvals` will attempt to set the values inplace instead of always setting a new array. To retain the old behavior, use either `df[df.columns[i]] = newvals` or, if columns are non-unique, `df.isetitem(i, newvals)`\n",
            "  encoded_df.loc[not_null, column] = le.fit_transform(encoded_df.loc[not_null, column])\n",
            "/var/folders/4c/8l6l08nj1gz4mkln9mdw_t_80000gn/T/ipykernel_44935/183654356.py:12: DeprecationWarning: In a future version, `df.iloc[:, i] = newvals` will attempt to set the values inplace instead of always setting a new array. To retain the old behavior, use either `df[df.columns[i]] = newvals` or, if columns are non-unique, `df.isetitem(i, newvals)`\n",
            "  encoded_df.loc[not_null, column] = le.fit_transform(encoded_df.loc[not_null, column])\n",
            "/var/folders/4c/8l6l08nj1gz4mkln9mdw_t_80000gn/T/ipykernel_44935/183654356.py:12: DeprecationWarning: In a future version, `df.iloc[:, i] = newvals` will attempt to set the values inplace instead of always setting a new array. To retain the old behavior, use either `df[df.columns[i]] = newvals` or, if columns are non-unique, `df.isetitem(i, newvals)`\n",
            "  encoded_df.loc[not_null, column] = le.fit_transform(encoded_df.loc[not_null, column])\n",
            "/var/folders/4c/8l6l08nj1gz4mkln9mdw_t_80000gn/T/ipykernel_44935/183654356.py:12: DeprecationWarning: In a future version, `df.iloc[:, i] = newvals` will attempt to set the values inplace instead of always setting a new array. To retain the old behavior, use either `df[df.columns[i]] = newvals` or, if columns are non-unique, `df.isetitem(i, newvals)`\n",
            "  encoded_df.loc[not_null, column] = le.fit_transform(encoded_df.loc[not_null, column])\n"
          ]
        }
      ],
      "source": [
        "def preprocess_and_impute(df):\n",
        "    # Separate numeric and categorical features\n",
        "    numeric_features = df.select_dtypes(include=['int64', 'float64']).columns\n",
        "    categorical_features = df.select_dtypes(include=['object']).columns\n",
        "\n",
        "    # Encode categorical variables\n",
        "    encoded_df = df.copy()\n",
        "    label_encoders = {}\n",
        "    for column in categorical_features:\n",
        "        le = LabelEncoder()\n",
        "        not_null = encoded_df[column].notna()\n",
        "        encoded_df.loc[not_null, column] = le.fit_transform(encoded_df.loc[not_null, column])\n",
        "        label_encoders[column] = le\n",
        "\n",
        "    # Apply KNN Imputer\n",
        "    imputer = KNNImputer(n_neighbors=5)\n",
        "    imputed_array = imputer.fit_transform(encoded_df)\n",
        "\n",
        "    # Convert imputed array back to DataFrame\n",
        "    imputed_df = pd.DataFrame(imputed_array, columns=df.columns, index=df.index)\n",
        "\n",
        "    # Convert categorical variables back to original labels\n",
        "    for column in categorical_features:\n",
        "        le = label_encoders[column]\n",
        "        imputed_df[column] = le.inverse_transform(imputed_df[column].round().astype(int))\n",
        "\n",
        "    # Convert numeric variables back to original dtypes\n",
        "    for column in numeric_features:\n",
        "        imputed_df[column] = imputed_df[column].astype(df[column].dtype)\n",
        "\n",
        "    # Set categorical data types\n",
        "    for column in categorical_features:\n",
        "        imputed_df[column] = imputed_df[column].astype('object')\n",
        "\n",
        "    return imputed_df\n",
        "\n",
        "# Apply preprocessing and imputation to both train and predict datasets\n",
        "train = preprocess_and_impute(train)\n",
        "predict = preprocess_and_impute(predict)"
      ]
    },
    {
      "cell_type": "markdown",
      "metadata": {
        "id": "N1QUvHopPAI5"
      },
      "source": [
        "# EDA"
      ]
    },
    {
      "cell_type": "code",
      "execution_count": 16,
      "metadata": {
        "id": "KgaZHcuZPAI5"
      },
      "outputs": [],
      "source": [
        "# Credit History only have 2 values (0/1) in the original dataset, so we have to round it\n",
        "train['Credit_History'] = train['Credit_History'].round()\n",
        "predict['Credit_History'] = predict['Credit_History'].round()"
      ]
    },
    {
      "cell_type": "code",
      "execution_count": 17,
      "metadata": {
        "colab": {
          "base_uri": "https://localhost:8080/",
          "height": 244
        },
        "id": "cbixdla3PAI6",
        "outputId": "23df566c-7403-4d75-ba65-d75d706398a9"
      },
      "outputs": [
        {
          "data": {
            "text/html": [
              "<div>\n",
              "<style scoped>\n",
              "    .dataframe tbody tr th:only-of-type {\n",
              "        vertical-align: middle;\n",
              "    }\n",
              "\n",
              "    .dataframe tbody tr th {\n",
              "        vertical-align: top;\n",
              "    }\n",
              "\n",
              "    .dataframe thead th {\n",
              "        text-align: right;\n",
              "    }\n",
              "</style>\n",
              "<table border=\"1\" class=\"dataframe\">\n",
              "  <thead>\n",
              "    <tr style=\"text-align: right;\">\n",
              "      <th></th>\n",
              "      <th>Gender</th>\n",
              "      <th>Married</th>\n",
              "      <th>Dependents</th>\n",
              "      <th>Education</th>\n",
              "      <th>Self_Employed</th>\n",
              "      <th>ApplicantIncome</th>\n",
              "      <th>CoapplicantIncome</th>\n",
              "      <th>LoanAmount</th>\n",
              "      <th>Loan_Amount_Term</th>\n",
              "      <th>Credit_History</th>\n",
              "      <th>Property_Area</th>\n",
              "      <th>Loan_Status</th>\n",
              "    </tr>\n",
              "  </thead>\n",
              "  <tbody>\n",
              "    <tr>\n",
              "      <th>0</th>\n",
              "      <td>Male</td>\n",
              "      <td>No</td>\n",
              "      <td>0</td>\n",
              "      <td>Graduate</td>\n",
              "      <td>No</td>\n",
              "      <td>5849</td>\n",
              "      <td>0.0</td>\n",
              "      <td>147.8</td>\n",
              "      <td>360.0</td>\n",
              "      <td>1.0</td>\n",
              "      <td>Urban</td>\n",
              "      <td>Y</td>\n",
              "    </tr>\n",
              "    <tr>\n",
              "      <th>1</th>\n",
              "      <td>Male</td>\n",
              "      <td>Yes</td>\n",
              "      <td>1</td>\n",
              "      <td>Graduate</td>\n",
              "      <td>No</td>\n",
              "      <td>4583</td>\n",
              "      <td>1508.0</td>\n",
              "      <td>128.0</td>\n",
              "      <td>360.0</td>\n",
              "      <td>1.0</td>\n",
              "      <td>Rural</td>\n",
              "      <td>N</td>\n",
              "    </tr>\n",
              "    <tr>\n",
              "      <th>2</th>\n",
              "      <td>Male</td>\n",
              "      <td>Yes</td>\n",
              "      <td>0</td>\n",
              "      <td>Graduate</td>\n",
              "      <td>Yes</td>\n",
              "      <td>3000</td>\n",
              "      <td>0.0</td>\n",
              "      <td>66.0</td>\n",
              "      <td>360.0</td>\n",
              "      <td>1.0</td>\n",
              "      <td>Urban</td>\n",
              "      <td>Y</td>\n",
              "    </tr>\n",
              "    <tr>\n",
              "      <th>3</th>\n",
              "      <td>Male</td>\n",
              "      <td>Yes</td>\n",
              "      <td>0</td>\n",
              "      <td>Not Graduate</td>\n",
              "      <td>No</td>\n",
              "      <td>2583</td>\n",
              "      <td>2358.0</td>\n",
              "      <td>120.0</td>\n",
              "      <td>360.0</td>\n",
              "      <td>1.0</td>\n",
              "      <td>Urban</td>\n",
              "      <td>Y</td>\n",
              "    </tr>\n",
              "    <tr>\n",
              "      <th>4</th>\n",
              "      <td>Male</td>\n",
              "      <td>No</td>\n",
              "      <td>0</td>\n",
              "      <td>Graduate</td>\n",
              "      <td>No</td>\n",
              "      <td>6000</td>\n",
              "      <td>0.0</td>\n",
              "      <td>141.0</td>\n",
              "      <td>360.0</td>\n",
              "      <td>1.0</td>\n",
              "      <td>Urban</td>\n",
              "      <td>Y</td>\n",
              "    </tr>\n",
              "  </tbody>\n",
              "</table>\n",
              "</div>"
            ],
            "text/plain": [
              "  Gender Married Dependents     Education Self_Employed  ApplicantIncome  \\\n",
              "0   Male      No          0      Graduate            No             5849   \n",
              "1   Male     Yes          1      Graduate            No             4583   \n",
              "2   Male     Yes          0      Graduate           Yes             3000   \n",
              "3   Male     Yes          0  Not Graduate            No             2583   \n",
              "4   Male      No          0      Graduate            No             6000   \n",
              "\n",
              "   CoapplicantIncome  LoanAmount  Loan_Amount_Term  Credit_History  \\\n",
              "0                0.0       147.8             360.0             1.0   \n",
              "1             1508.0       128.0             360.0             1.0   \n",
              "2                0.0        66.0             360.0             1.0   \n",
              "3             2358.0       120.0             360.0             1.0   \n",
              "4                0.0       141.0             360.0             1.0   \n",
              "\n",
              "  Property_Area Loan_Status  \n",
              "0         Urban           Y  \n",
              "1         Rural           N  \n",
              "2         Urban           Y  \n",
              "3         Urban           Y  \n",
              "4         Urban           Y  "
            ]
          },
          "execution_count": 17,
          "metadata": {},
          "output_type": "execute_result"
        }
      ],
      "source": [
        "train.head()"
      ]
    },
    {
      "cell_type": "code",
      "execution_count": 18,
      "metadata": {
        "colab": {
          "base_uri": "https://localhost:8080/"
        },
        "id": "q57yCbhKcinJ",
        "outputId": "473b6807-29de-4904-8570-dc67626b91c9"
      },
      "outputs": [
        {
          "name": "stdout",
          "output_type": "stream",
          "text": [
            "<class 'pandas.core.frame.DataFrame'>\n",
            "RangeIndex: 614 entries, 0 to 613\n",
            "Data columns (total 12 columns):\n",
            " #   Column             Non-Null Count  Dtype  \n",
            "---  ------             --------------  -----  \n",
            " 0   Gender             614 non-null    object \n",
            " 1   Married            614 non-null    object \n",
            " 2   Dependents         614 non-null    object \n",
            " 3   Education          614 non-null    object \n",
            " 4   Self_Employed      614 non-null    object \n",
            " 5   ApplicantIncome    614 non-null    int64  \n",
            " 6   CoapplicantIncome  614 non-null    float64\n",
            " 7   LoanAmount         614 non-null    float64\n",
            " 8   Loan_Amount_Term   614 non-null    float64\n",
            " 9   Credit_History     614 non-null    float64\n",
            " 10  Property_Area      614 non-null    object \n",
            " 11  Loan_Status        614 non-null    object \n",
            "dtypes: float64(4), int64(1), object(7)\n",
            "memory usage: 57.7+ KB\n"
          ]
        }
      ],
      "source": [
        "train.info()"
      ]
    },
    {
      "cell_type": "markdown",
      "metadata": {},
      "source": [
        "### Percentage of approvied records in the dataset"
      ]
    },
    {
      "cell_type": "code",
      "execution_count": 19,
      "metadata": {
        "colab": {
          "base_uri": "https://localhost:8080/",
          "height": 417
        },
        "id": "X7ZxkAtNPAI6",
        "outputId": "f4841bd8-af16-4b64-b77e-76f25a17fd36"
      },
      "outputs": [
        {
          "data": {
            "application/vnd.plotly.v1+json": {
              "config": {
                "plotlyServerURL": "https://plot.ly"
              },
              "data": [
                {
                  "domain": {
                    "x": [
                      0,
                      1
                    ],
                    "y": [
                      0,
                      1
                    ]
                  },
                  "hovertemplate": "Loan_Status=%{label}<br>Count=%{value}<extra></extra>",
                  "labels": [
                    "Y",
                    "N"
                  ],
                  "legendgroup": "",
                  "name": "",
                  "showlegend": true,
                  "type": "pie",
                  "values": [
                    422,
                    192
                  ]
                }
              ],
              "layout": {
                "height": 400,
                "legend": {
                  "tracegroupgap": 0
                },
                "template": {
                  "data": {
                    "bar": [
                      {
                        "error_x": {
                          "color": "#2a3f5f"
                        },
                        "error_y": {
                          "color": "#2a3f5f"
                        },
                        "marker": {
                          "line": {
                            "color": "#E5ECF6",
                            "width": 0.5
                          },
                          "pattern": {
                            "fillmode": "overlay",
                            "size": 10,
                            "solidity": 0.2
                          }
                        },
                        "type": "bar"
                      }
                    ],
                    "barpolar": [
                      {
                        "marker": {
                          "line": {
                            "color": "#E5ECF6",
                            "width": 0.5
                          },
                          "pattern": {
                            "fillmode": "overlay",
                            "size": 10,
                            "solidity": 0.2
                          }
                        },
                        "type": "barpolar"
                      }
                    ],
                    "carpet": [
                      {
                        "aaxis": {
                          "endlinecolor": "#2a3f5f",
                          "gridcolor": "white",
                          "linecolor": "white",
                          "minorgridcolor": "white",
                          "startlinecolor": "#2a3f5f"
                        },
                        "baxis": {
                          "endlinecolor": "#2a3f5f",
                          "gridcolor": "white",
                          "linecolor": "white",
                          "minorgridcolor": "white",
                          "startlinecolor": "#2a3f5f"
                        },
                        "type": "carpet"
                      }
                    ],
                    "choropleth": [
                      {
                        "colorbar": {
                          "outlinewidth": 0,
                          "ticks": ""
                        },
                        "type": "choropleth"
                      }
                    ],
                    "contour": [
                      {
                        "colorbar": {
                          "outlinewidth": 0,
                          "ticks": ""
                        },
                        "colorscale": [
                          [
                            0,
                            "#0d0887"
                          ],
                          [
                            0.1111111111111111,
                            "#46039f"
                          ],
                          [
                            0.2222222222222222,
                            "#7201a8"
                          ],
                          [
                            0.3333333333333333,
                            "#9c179e"
                          ],
                          [
                            0.4444444444444444,
                            "#bd3786"
                          ],
                          [
                            0.5555555555555556,
                            "#d8576b"
                          ],
                          [
                            0.6666666666666666,
                            "#ed7953"
                          ],
                          [
                            0.7777777777777778,
                            "#fb9f3a"
                          ],
                          [
                            0.8888888888888888,
                            "#fdca26"
                          ],
                          [
                            1,
                            "#f0f921"
                          ]
                        ],
                        "type": "contour"
                      }
                    ],
                    "contourcarpet": [
                      {
                        "colorbar": {
                          "outlinewidth": 0,
                          "ticks": ""
                        },
                        "type": "contourcarpet"
                      }
                    ],
                    "heatmap": [
                      {
                        "colorbar": {
                          "outlinewidth": 0,
                          "ticks": ""
                        },
                        "colorscale": [
                          [
                            0,
                            "#0d0887"
                          ],
                          [
                            0.1111111111111111,
                            "#46039f"
                          ],
                          [
                            0.2222222222222222,
                            "#7201a8"
                          ],
                          [
                            0.3333333333333333,
                            "#9c179e"
                          ],
                          [
                            0.4444444444444444,
                            "#bd3786"
                          ],
                          [
                            0.5555555555555556,
                            "#d8576b"
                          ],
                          [
                            0.6666666666666666,
                            "#ed7953"
                          ],
                          [
                            0.7777777777777778,
                            "#fb9f3a"
                          ],
                          [
                            0.8888888888888888,
                            "#fdca26"
                          ],
                          [
                            1,
                            "#f0f921"
                          ]
                        ],
                        "type": "heatmap"
                      }
                    ],
                    "heatmapgl": [
                      {
                        "colorbar": {
                          "outlinewidth": 0,
                          "ticks": ""
                        },
                        "colorscale": [
                          [
                            0,
                            "#0d0887"
                          ],
                          [
                            0.1111111111111111,
                            "#46039f"
                          ],
                          [
                            0.2222222222222222,
                            "#7201a8"
                          ],
                          [
                            0.3333333333333333,
                            "#9c179e"
                          ],
                          [
                            0.4444444444444444,
                            "#bd3786"
                          ],
                          [
                            0.5555555555555556,
                            "#d8576b"
                          ],
                          [
                            0.6666666666666666,
                            "#ed7953"
                          ],
                          [
                            0.7777777777777778,
                            "#fb9f3a"
                          ],
                          [
                            0.8888888888888888,
                            "#fdca26"
                          ],
                          [
                            1,
                            "#f0f921"
                          ]
                        ],
                        "type": "heatmapgl"
                      }
                    ],
                    "histogram": [
                      {
                        "marker": {
                          "pattern": {
                            "fillmode": "overlay",
                            "size": 10,
                            "solidity": 0.2
                          }
                        },
                        "type": "histogram"
                      }
                    ],
                    "histogram2d": [
                      {
                        "colorbar": {
                          "outlinewidth": 0,
                          "ticks": ""
                        },
                        "colorscale": [
                          [
                            0,
                            "#0d0887"
                          ],
                          [
                            0.1111111111111111,
                            "#46039f"
                          ],
                          [
                            0.2222222222222222,
                            "#7201a8"
                          ],
                          [
                            0.3333333333333333,
                            "#9c179e"
                          ],
                          [
                            0.4444444444444444,
                            "#bd3786"
                          ],
                          [
                            0.5555555555555556,
                            "#d8576b"
                          ],
                          [
                            0.6666666666666666,
                            "#ed7953"
                          ],
                          [
                            0.7777777777777778,
                            "#fb9f3a"
                          ],
                          [
                            0.8888888888888888,
                            "#fdca26"
                          ],
                          [
                            1,
                            "#f0f921"
                          ]
                        ],
                        "type": "histogram2d"
                      }
                    ],
                    "histogram2dcontour": [
                      {
                        "colorbar": {
                          "outlinewidth": 0,
                          "ticks": ""
                        },
                        "colorscale": [
                          [
                            0,
                            "#0d0887"
                          ],
                          [
                            0.1111111111111111,
                            "#46039f"
                          ],
                          [
                            0.2222222222222222,
                            "#7201a8"
                          ],
                          [
                            0.3333333333333333,
                            "#9c179e"
                          ],
                          [
                            0.4444444444444444,
                            "#bd3786"
                          ],
                          [
                            0.5555555555555556,
                            "#d8576b"
                          ],
                          [
                            0.6666666666666666,
                            "#ed7953"
                          ],
                          [
                            0.7777777777777778,
                            "#fb9f3a"
                          ],
                          [
                            0.8888888888888888,
                            "#fdca26"
                          ],
                          [
                            1,
                            "#f0f921"
                          ]
                        ],
                        "type": "histogram2dcontour"
                      }
                    ],
                    "mesh3d": [
                      {
                        "colorbar": {
                          "outlinewidth": 0,
                          "ticks": ""
                        },
                        "type": "mesh3d"
                      }
                    ],
                    "parcoords": [
                      {
                        "line": {
                          "colorbar": {
                            "outlinewidth": 0,
                            "ticks": ""
                          }
                        },
                        "type": "parcoords"
                      }
                    ],
                    "pie": [
                      {
                        "automargin": true,
                        "type": "pie"
                      }
                    ],
                    "scatter": [
                      {
                        "fillpattern": {
                          "fillmode": "overlay",
                          "size": 10,
                          "solidity": 0.2
                        },
                        "type": "scatter"
                      }
                    ],
                    "scatter3d": [
                      {
                        "line": {
                          "colorbar": {
                            "outlinewidth": 0,
                            "ticks": ""
                          }
                        },
                        "marker": {
                          "colorbar": {
                            "outlinewidth": 0,
                            "ticks": ""
                          }
                        },
                        "type": "scatter3d"
                      }
                    ],
                    "scattercarpet": [
                      {
                        "marker": {
                          "colorbar": {
                            "outlinewidth": 0,
                            "ticks": ""
                          }
                        },
                        "type": "scattercarpet"
                      }
                    ],
                    "scattergeo": [
                      {
                        "marker": {
                          "colorbar": {
                            "outlinewidth": 0,
                            "ticks": ""
                          }
                        },
                        "type": "scattergeo"
                      }
                    ],
                    "scattergl": [
                      {
                        "marker": {
                          "colorbar": {
                            "outlinewidth": 0,
                            "ticks": ""
                          }
                        },
                        "type": "scattergl"
                      }
                    ],
                    "scattermapbox": [
                      {
                        "marker": {
                          "colorbar": {
                            "outlinewidth": 0,
                            "ticks": ""
                          }
                        },
                        "type": "scattermapbox"
                      }
                    ],
                    "scatterpolar": [
                      {
                        "marker": {
                          "colorbar": {
                            "outlinewidth": 0,
                            "ticks": ""
                          }
                        },
                        "type": "scatterpolar"
                      }
                    ],
                    "scatterpolargl": [
                      {
                        "marker": {
                          "colorbar": {
                            "outlinewidth": 0,
                            "ticks": ""
                          }
                        },
                        "type": "scatterpolargl"
                      }
                    ],
                    "scatterternary": [
                      {
                        "marker": {
                          "colorbar": {
                            "outlinewidth": 0,
                            "ticks": ""
                          }
                        },
                        "type": "scatterternary"
                      }
                    ],
                    "surface": [
                      {
                        "colorbar": {
                          "outlinewidth": 0,
                          "ticks": ""
                        },
                        "colorscale": [
                          [
                            0,
                            "#0d0887"
                          ],
                          [
                            0.1111111111111111,
                            "#46039f"
                          ],
                          [
                            0.2222222222222222,
                            "#7201a8"
                          ],
                          [
                            0.3333333333333333,
                            "#9c179e"
                          ],
                          [
                            0.4444444444444444,
                            "#bd3786"
                          ],
                          [
                            0.5555555555555556,
                            "#d8576b"
                          ],
                          [
                            0.6666666666666666,
                            "#ed7953"
                          ],
                          [
                            0.7777777777777778,
                            "#fb9f3a"
                          ],
                          [
                            0.8888888888888888,
                            "#fdca26"
                          ],
                          [
                            1,
                            "#f0f921"
                          ]
                        ],
                        "type": "surface"
                      }
                    ],
                    "table": [
                      {
                        "cells": {
                          "fill": {
                            "color": "#EBF0F8"
                          },
                          "line": {
                            "color": "white"
                          }
                        },
                        "header": {
                          "fill": {
                            "color": "#C8D4E3"
                          },
                          "line": {
                            "color": "white"
                          }
                        },
                        "type": "table"
                      }
                    ]
                  },
                  "layout": {
                    "annotationdefaults": {
                      "arrowcolor": "#2a3f5f",
                      "arrowhead": 0,
                      "arrowwidth": 1
                    },
                    "autotypenumbers": "strict",
                    "coloraxis": {
                      "colorbar": {
                        "outlinewidth": 0,
                        "ticks": ""
                      }
                    },
                    "colorscale": {
                      "diverging": [
                        [
                          0,
                          "#8e0152"
                        ],
                        [
                          0.1,
                          "#c51b7d"
                        ],
                        [
                          0.2,
                          "#de77ae"
                        ],
                        [
                          0.3,
                          "#f1b6da"
                        ],
                        [
                          0.4,
                          "#fde0ef"
                        ],
                        [
                          0.5,
                          "#f7f7f7"
                        ],
                        [
                          0.6,
                          "#e6f5d0"
                        ],
                        [
                          0.7,
                          "#b8e186"
                        ],
                        [
                          0.8,
                          "#7fbc41"
                        ],
                        [
                          0.9,
                          "#4d9221"
                        ],
                        [
                          1,
                          "#276419"
                        ]
                      ],
                      "sequential": [
                        [
                          0,
                          "#0d0887"
                        ],
                        [
                          0.1111111111111111,
                          "#46039f"
                        ],
                        [
                          0.2222222222222222,
                          "#7201a8"
                        ],
                        [
                          0.3333333333333333,
                          "#9c179e"
                        ],
                        [
                          0.4444444444444444,
                          "#bd3786"
                        ],
                        [
                          0.5555555555555556,
                          "#d8576b"
                        ],
                        [
                          0.6666666666666666,
                          "#ed7953"
                        ],
                        [
                          0.7777777777777778,
                          "#fb9f3a"
                        ],
                        [
                          0.8888888888888888,
                          "#fdca26"
                        ],
                        [
                          1,
                          "#f0f921"
                        ]
                      ],
                      "sequentialminus": [
                        [
                          0,
                          "#0d0887"
                        ],
                        [
                          0.1111111111111111,
                          "#46039f"
                        ],
                        [
                          0.2222222222222222,
                          "#7201a8"
                        ],
                        [
                          0.3333333333333333,
                          "#9c179e"
                        ],
                        [
                          0.4444444444444444,
                          "#bd3786"
                        ],
                        [
                          0.5555555555555556,
                          "#d8576b"
                        ],
                        [
                          0.6666666666666666,
                          "#ed7953"
                        ],
                        [
                          0.7777777777777778,
                          "#fb9f3a"
                        ],
                        [
                          0.8888888888888888,
                          "#fdca26"
                        ],
                        [
                          1,
                          "#f0f921"
                        ]
                      ]
                    },
                    "colorway": [
                      "#636efa",
                      "#EF553B",
                      "#00cc96",
                      "#ab63fa",
                      "#FFA15A",
                      "#19d3f3",
                      "#FF6692",
                      "#B6E880",
                      "#FF97FF",
                      "#FECB52"
                    ],
                    "font": {
                      "color": "#2a3f5f"
                    },
                    "geo": {
                      "bgcolor": "white",
                      "lakecolor": "white",
                      "landcolor": "#E5ECF6",
                      "showlakes": true,
                      "showland": true,
                      "subunitcolor": "white"
                    },
                    "hoverlabel": {
                      "align": "left"
                    },
                    "hovermode": "closest",
                    "mapbox": {
                      "style": "light"
                    },
                    "paper_bgcolor": "white",
                    "plot_bgcolor": "#E5ECF6",
                    "polar": {
                      "angularaxis": {
                        "gridcolor": "white",
                        "linecolor": "white",
                        "ticks": ""
                      },
                      "bgcolor": "#E5ECF6",
                      "radialaxis": {
                        "gridcolor": "white",
                        "linecolor": "white",
                        "ticks": ""
                      }
                    },
                    "scene": {
                      "xaxis": {
                        "backgroundcolor": "#E5ECF6",
                        "gridcolor": "white",
                        "gridwidth": 2,
                        "linecolor": "white",
                        "showbackground": true,
                        "ticks": "",
                        "zerolinecolor": "white"
                      },
                      "yaxis": {
                        "backgroundcolor": "#E5ECF6",
                        "gridcolor": "white",
                        "gridwidth": 2,
                        "linecolor": "white",
                        "showbackground": true,
                        "ticks": "",
                        "zerolinecolor": "white"
                      },
                      "zaxis": {
                        "backgroundcolor": "#E5ECF6",
                        "gridcolor": "white",
                        "gridwidth": 2,
                        "linecolor": "white",
                        "showbackground": true,
                        "ticks": "",
                        "zerolinecolor": "white"
                      }
                    },
                    "shapedefaults": {
                      "line": {
                        "color": "#2a3f5f"
                      }
                    },
                    "ternary": {
                      "aaxis": {
                        "gridcolor": "white",
                        "linecolor": "white",
                        "ticks": ""
                      },
                      "baxis": {
                        "gridcolor": "white",
                        "linecolor": "white",
                        "ticks": ""
                      },
                      "bgcolor": "#E5ECF6",
                      "caxis": {
                        "gridcolor": "white",
                        "linecolor": "white",
                        "ticks": ""
                      }
                    },
                    "title": {
                      "x": 0.05
                    },
                    "xaxis": {
                      "automargin": true,
                      "gridcolor": "white",
                      "linecolor": "white",
                      "ticks": "",
                      "title": {
                        "standoff": 15
                      },
                      "zerolinecolor": "white",
                      "zerolinewidth": 2
                    },
                    "yaxis": {
                      "automargin": true,
                      "gridcolor": "white",
                      "linecolor": "white",
                      "ticks": "",
                      "title": {
                        "standoff": 15
                      },
                      "zerolinecolor": "white",
                      "zerolinewidth": 2
                    }
                  }
                },
                "title": {
                  "text": "Proportion of Loan Status"
                },
                "width": 400
              }
            }
          },
          "metadata": {},
          "output_type": "display_data"
        }
      ],
      "source": [
        "# Check proportion of approved\n",
        "loan_status_counts = train['Loan_Status'].value_counts().reset_index()\n",
        "loan_status_counts.columns = ['Loan_Status', 'Count']\n",
        "\n",
        "fig = px.pie(loan_status_counts, values='Count', names='Loan_Status', title='Proportion of Loan Status')\n",
        "fig.update_layout(width=400, height=400)\n",
        "fig.show()"
      ]
    },
    {
      "cell_type": "markdown",
      "metadata": {
        "id": "n-TZos9VPAI6"
      },
      "source": [
        "Around 69% of the loan applications were approved."
      ]
    },
    {
      "cell_type": "code",
      "execution_count": 20,
      "metadata": {
        "colab": {
          "base_uri": "https://localhost:8080/",
          "height": 707
        },
        "id": "zAOqCvROPAI6",
        "outputId": "406d1797-2e57-45bc-aeb0-2552ceb26c38"
      },
      "outputs": [
        {
          "data": {
            "image/png": "[encoded data removed]",
            "text/plain": [
              "<Figure size 2000x1000 with 4 Axes>"
            ]
          },
          "metadata": {},
          "output_type": "display_data"
        }
      ],
      "source": [
        "plt.figure()\n",
        "plt.subplot(221)\n",
        "train['Gender'].value_counts(normalize=True).plot.bar(figsize=(20,10), title='Gender')\n",
        "plt.subplot(222)\n",
        "train['Married'].value_counts(normalize=True).plot.bar(figsize=(20,10), title = 'Married')\n",
        "plt.subplot(223)\n",
        "train['Self_Employed'].value_counts(normalize=True).plot.bar(figsize=(20,10), title='Self Employed')\n",
        "plt.subplot(224)\n",
        "train['Credit_History'].value_counts(normalize=True).plot.bar(figsize=(20,10), title='Credit History')\n",
        "\n",
        "plt.tight_layout()\n"
      ]
    },
    {
      "cell_type": "markdown",
      "metadata": {
        "id": "TIgnR5pwPAI6"
      },
      "source": [
        "- 80% of the applicants are male.\n",
        "- Around 65% applicants are married.\n",
        "- Around 15% applicant are self employed.\n",
        "- Around 85% applicant have repaied their debts."
      ]
    },
    {
      "cell_type": "code",
      "execution_count": 21,
      "metadata": {
        "colab": {
          "base_uri": "https://localhost:8080/",
          "height": 360
        },
        "id": "vl5ZwKdnPAI6",
        "outputId": "6e95fe33-ae45-4eaa-c988-3847c06ce533"
      },
      "outputs": [
        {
          "data": {
            "image/png": "[encoded data removed]",
            "text/plain": [
              "<Figure size 2400x600 with 3 Axes>"
            ]
          },
          "metadata": {},
          "output_type": "display_data"
        }
      ],
      "source": [
        "plt.figure()\n",
        "plt.subplot(131)\n",
        "train['Dependents'].value_counts(normalize=True).plot.bar(figsize=(24,6), title='Dependents')\n",
        "plt.subplot(132)\n",
        "train['Education'].value_counts(normalize=True).plot.bar(title='Education')\n",
        "plt.subplot(133)\n",
        "train['Property_Area'].value_counts(normalize=True).plot.bar(title='Property Area')\n",
        "plt.tight_layout()"
      ]
    },
    {
      "cell_type": "markdown",
      "metadata": {
        "id": "O0jGWpV_PAI6"
      },
      "source": [
        "- Most of the applicants don't have dependents.\n",
        "- Around 80% of the applicants are graduate.\n",
        "- Most of the applicants are from Semiurban area."
      ]
    },
    {
      "cell_type": "markdown",
      "metadata": {},
      "source": [
        "### Distribution of Income variables"
      ]
    },
    {
      "cell_type": "code",
      "execution_count": 22,
      "metadata": {
        "colab": {
          "base_uri": "https://localhost:8080/",
          "height": 715
        },
        "id": "SF4UyDkMPAI6",
        "outputId": "d45c382a-d928-4b75-f8f9-701103751e4d"
      },
      "outputs": [
        {
          "name": "stderr",
          "output_type": "stream",
          "text": [
            "/var/folders/4c/8l6l08nj1gz4mkln9mdw_t_80000gn/T/ipykernel_44935/2568650623.py:3: UserWarning:\n",
            "\n",
            "\n",
            "\n",
            "`distplot` is a deprecated function and will be removed in seaborn v0.14.0.\n",
            "\n",
            "Please adapt your code to use either `displot` (a figure-level function with\n",
            "similar flexibility) or `histplot` (an axes-level function for histograms).\n",
            "\n",
            "For a guide to updating your code to use the new functions, please see\n",
            "https://gist.github.com/mwaskom/de44147ed2974457ad6372750bbe5751\n",
            "\n",
            "\n"
          ]
        },
        {
          "data": {
            "text/plain": [
              "<Axes: >"
            ]
          },
          "execution_count": 22,
          "metadata": {},
          "output_type": "execute_result"
        },
        {
          "data": {
            "image/png": "[encoded data removed]",
            "text/plain": [
              "<Figure size 1600x500 with 2 Axes>"
            ]
          },
          "metadata": {},
          "output_type": "display_data"
        }
      ],
      "source": [
        "plt.figure()\n",
        "plt.subplot(121)\n",
        "sns.distplot(train['ApplicantIncome'])\n",
        "plt.subplot(122)\n",
        "train['ApplicantIncome'].plot.box(figsize=(16,5))"
      ]
    },
    {
      "cell_type": "code",
      "execution_count": 23,
      "metadata": {
        "colab": {
          "base_uri": "https://localhost:8080/",
          "height": 715
        },
        "id": "-UarebtvPAI6",
        "outputId": "74d52d29-7db7-4b83-ab60-b102c0c73bc8"
      },
      "outputs": [
        {
          "name": "stderr",
          "output_type": "stream",
          "text": [
            "/var/folders/4c/8l6l08nj1gz4mkln9mdw_t_80000gn/T/ipykernel_44935/787503932.py:3: UserWarning:\n",
            "\n",
            "\n",
            "\n",
            "`distplot` is a deprecated function and will be removed in seaborn v0.14.0.\n",
            "\n",
            "Please adapt your code to use either `displot` (a figure-level function with\n",
            "similar flexibility) or `histplot` (an axes-level function for histograms).\n",
            "\n",
            "For a guide to updating your code to use the new functions, please see\n",
            "https://gist.github.com/mwaskom/de44147ed2974457ad6372750bbe5751\n",
            "\n",
            "\n"
          ]
        },
        {
          "data": {
            "text/plain": [
              "<Axes: >"
            ]
          },
          "execution_count": 23,
          "metadata": {},
          "output_type": "execute_result"
        },
        {
          "data": {
            "image/png": "[encoded data removed]",
            "text/plain": [
              "<Figure size 1600x500 with 2 Axes>"
            ]
          },
          "metadata": {},
          "output_type": "display_data"
        }
      ],
      "source": [
        "plt.figure()\n",
        "plt.subplot(121)\n",
        "sns.distplot(train['CoapplicantIncome'])\n",
        "plt.subplot(122)\n",
        "train['CoapplicantIncome'].plot.box(figsize=(16,5))"
      ]
    },
    {
      "cell_type": "code",
      "execution_count": 24,
      "metadata": {
        "colab": {
          "base_uri": "https://localhost:8080/",
          "height": 715
        },
        "id": "-aRRrzEfPAI6",
        "outputId": "deb1a45c-6e58-4447-b330-334163fab0b6"
      },
      "outputs": [
        {
          "name": "stderr",
          "output_type": "stream",
          "text": [
            "/var/folders/4c/8l6l08nj1gz4mkln9mdw_t_80000gn/T/ipykernel_44935/1550645400.py:3: UserWarning:\n",
            "\n",
            "\n",
            "\n",
            "`distplot` is a deprecated function and will be removed in seaborn v0.14.0.\n",
            "\n",
            "Please adapt your code to use either `displot` (a figure-level function with\n",
            "similar flexibility) or `histplot` (an axes-level function for histograms).\n",
            "\n",
            "For a guide to updating your code to use the new functions, please see\n",
            "https://gist.github.com/mwaskom/de44147ed2974457ad6372750bbe5751\n",
            "\n",
            "\n"
          ]
        },
        {
          "data": {
            "text/plain": [
              "<Axes: >"
            ]
          },
          "execution_count": 24,
          "metadata": {},
          "output_type": "execute_result"
        },
        {
          "data": {
            "image/png": "[encoded data removed]",
            "text/plain": [
              "<Figure size 1600x500 with 2 Axes>"
            ]
          },
          "metadata": {},
          "output_type": "display_data"
        }
      ],
      "source": [
        "plt.figure()\n",
        "plt.subplot(121)\n",
        "sns.distplot(train['LoanAmount'])\n",
        "plt.subplot(122)\n",
        "train['LoanAmount'].plot.box(figsize=(16,5))"
      ]
    },
    {
      "cell_type": "code",
      "execution_count": 25,
      "metadata": {
        "colab": {
          "base_uri": "https://localhost:8080/",
          "height": 542
        },
        "id": "KSyjKK_FPRuA",
        "outputId": "1f5cfae9-0018-42d9-cad5-c1606d57d602"
      },
      "outputs": [
        {
          "data": {
            "application/vnd.plotly.v1+json": {
              "config": {
                "plotlyServerURL": "https://plot.ly"
              },
              "data": [
                {
                  "customdata": [
                    [
                      "Male",
                      "No",
                      "Graduate"
                    ],
                    [
                      "Male",
                      "Yes",
                      "Graduate"
                    ],
                    [
                      "Male",
                      "Yes",
                      "Not Graduate"
                    ],
                    [
                      "Male",
                      "No",
                      "Graduate"
                    ],
                    [
                      "Male",
                      "Yes",
                      "Graduate"
                    ],
                    [
                      "Male",
                      "Yes",
                      "Not Graduate"
                    ],
                    [
                      "Male",
                      "Yes",
                      "Graduate"
                    ],
                    [
                      "Male",
                      "Yes",
                      "Graduate"
                    ],
                    [
                      "Male",
                      "Yes",
                      "Graduate"
                    ],
                    [
                      "Male",
                      "Yes",
                      "Graduate"
                    ],
                    [
                      "Male",
                      "Yes",
                      "Graduate"
                    ],
                    [
                      "Male",
                      "No",
                      "Graduate"
                    ],
                    [
                      "Male",
                      "No",
                      "Not Graduate"
                    ],
                    [
                      "Male",
                      "Yes",
                      "Graduate"
                    ],
                    [
                      "Male",
                      "Yes",
                      "Graduate"
                    ],
                    [
                      "Male",
                      "Yes",
                      "Graduate"
                    ],
                    [
                      "Male",
                      "Yes",
                      "Graduate"
                    ],
                    [
                      "Male",
                      "Yes",
                      "Not Graduate"
                    ],
                    [
                      "Female",
                      "No",
                      "Graduate"
                    ],
                    [
                      "Male",
                      "Yes",
                      "Graduate"
                    ],
                    [
                      "Male",
                      "Yes",
                      "Graduate"
                    ],
                    [
                      "Female",
                      "Yes",
                      "Graduate"
                    ],
                    [
                      "Male",
                      "No",
                      "Graduate"
                    ],
                    [
                      "Male",
                      "No",
                      "Not Graduate"
                    ],
                    [
                      "Male",
                      "No",
                      "Graduate"
                    ],
                    [
                      "Male",
                      "Yes",
                      "Graduate"
                    ],
                    [
                      "Male",
                      "Yes",
                      "Graduate"
                    ],
                    [
                      "Male",
                      "Yes",
                      "Not Graduate"
                    ],
                    [
                      "Female",
                      "No",
                      "Graduate"
                    ],
                    [
                      "Male",
                      "Yes",
                      "Graduate"
                    ],
                    [
                      "Male",
                      "Yes",
                      "Graduate"
                    ],
                    [
                      "Female",
                      "No",
                      "Graduate"
                    ],
                    [
                      "Female",
                      "Yes",
                      "Not Graduate"
                    ],
                    [
                      "Female",
                      "No",
                      "Graduate"
                    ],
                    [
                      "Male",
                      "Yes",
                      "Graduate"
                    ],
                    [
                      "Male",
                      "Yes",
                      "Graduate"
                    ],
                    [
                      "Male",
                      "Yes",
                      "Graduate"
                    ],
                    [
                      "Male",
                      "Yes",
                      "Not Graduate"
                    ],
                    [
                      "Male",
                      "Yes",
                      "Graduate"
                    ],
                    [
                      "Male",
                      "Yes",
                      "Graduate"
                    ],
                    [
                      "Male",
                      "Yes",
                      "Graduate"
                    ],
                    [
                      "Male",
                      "Yes",
                      "Not Graduate"
                    ],
                    [
                      "Male",
                      "Yes",
                      "Graduate"
                    ],
                    [
                      "Male",
                      "Yes",
                      "Not Graduate"
                    ],
                    [
                      "Male",
                      "No",
                      "Graduate"
                    ],
                    [
                      "Male",
                      "Yes",
                      "Graduate"
                    ],
                    [
                      "Male",
                      "Yes",
                      "Not Graduate"
                    ],
                    [
                      "Female",
                      "No",
                      "Graduate"
                    ],
                    [
                      "Male",
                      "Yes",
                      "Graduate"
                    ],
                    [
                      "Male",
                      "Yes",
                      "Graduate"
                    ],
                    [
                      "Male",
                      "No",
                      "Graduate"
                    ],
                    [
                      "Male",
                      "Yes",
                      "Not Graduate"
                    ],
                    [
                      "Male",
                      "Yes",
                      "Graduate"
                    ],
                    [
                      "Male",
                      "No",
                      "Graduate"
                    ],
                    [
                      "Male",
                      "Yes",
                      "Graduate"
                    ],
                    [
                      "Male",
                      "Yes",
                      "Graduate"
                    ],
                    [
                      "Male",
                      "Yes",
                      "Graduate"
                    ],
                    [
                      "Male",
                      "Yes",
                      "Not Graduate"
                    ],
                    [
                      "Male",
                      "No",
                      "Graduate"
                    ],
                    [
                      "Male",
                      "No",
                      "Not Graduate"
                    ],
                    [
                      "Female",
                      "Yes",
                      "Graduate"
                    ],
                    [
                      "Male",
                      "Yes",
                      "Graduate"
                    ],
                    [
                      "Male",
                      "Yes",
                      "Not Graduate"
                    ],
                    [
                      "Male",
                      "Yes",
                      "Graduate"
                    ],
                    [
                      "Male",
                      "Yes",
                      "Not Graduate"
                    ],
                    [
                      "Male",
                      "No",
                      "Graduate"
                    ],
                    [
                      "Male",
                      "Yes",
                      "Graduate"
                    ],
                    [
                      "Male",
                      "Yes",
                      "Graduate"
                    ],
                    [
                      "Male",
                      "Yes",
                      "Graduate"
                    ],
                    [
                      "Male",
                      "Yes",
                      "Graduate"
                    ],
                    [
                      "Male",
                      "Yes",
                      "Graduate"
                    ],
                    [
                      "Male",
                      "Yes",
                      "Not Graduate"
                    ],
                    [
                      "Male",
                      "No",
                      "Graduate"
                    ],
                    [
                      "Female",
                      "Yes",
                      "Graduate"
                    ],
                    [
                      "Female",
                      "No",
                      "Graduate"
                    ],
                    [
                      "Male",
                      "No",
                      "Graduate"
                    ],
                    [
                      "Male",
                      "Yes",
                      "Graduate"
                    ],
                    [
                      "Female",
                      "Yes",
                      "Graduate"
                    ],
                    [
                      "Male",
                      "Yes",
                      "Graduate"
                    ],
                    [
                      "Female",
                      "No",
                      "Graduate"
                    ],
                    [
                      "Male",
                      "Yes",
                      "Graduate"
                    ],
                    [
                      "Female",
                      "No",
                      "Graduate"
                    ],
                    [
                      "Female",
                      "No",
                      "Graduate"
                    ],
                    [
                      "Male",
                      "Yes",
                      "Graduate"
                    ],
                    [
                      "Male",
                      "Yes",
                      "Not Graduate"
                    ],
                    [
                      "Female",
                      "No",
                      "Graduate"
                    ],
                    [
                      "Male",
                      "Yes",
                      "Graduate"
                    ],
                    [
                      "Male",
                      "No",
                      "Graduate"
                    ],
                    [
                      "Male",
                      "No",
                      "Graduate"
                    ],
                    [
                      "Male",
                      "No",
                      "Graduate"
                    ],
                    [
                      "Male",
                      "No",
                      "Graduate"
                    ],
                    [
                      "Male",
                      "Yes",
                      "Graduate"
                    ],
                    [
                      "Male",
                      "No",
                      "Graduate"
                    ],
                    [
                      "Male",
                      "Yes",
                      "Graduate"
                    ],
                    [
                      "Male",
                      "No",
                      "Graduate"
                    ],
                    [
                      "Male",
                      "No",
                      "Graduate"
                    ],
                    [
                      "Male",
                      "Yes",
                      "Graduate"
                    ],
                    [
                      "Male",
                      "Yes",
                      "Graduate"
                    ],
                    [
                      "Female",
                      "Yes",
                      "Graduate"
                    ],
                    [
                      "Female",
                      "Yes",
                      "Graduate"
                    ],
                    [
                      "Male",
                      "Yes",
                      "Graduate"
                    ],
                    [
                      "Male",
                      "Yes",
                      "Graduate"
                    ],
                    [
                      "Male",
                      "Yes",
                      "Graduate"
                    ],
                    [
                      "Male",
                      "No",
                      "Graduate"
                    ],
                    [
                      "Male",
                      "Yes",
                      "Graduate"
                    ],
                    [
                      "Male",
                      "Yes",
                      "Graduate"
                    ],
                    [
                      "Male",
                      "Yes",
                      "Graduate"
                    ],
                    [
                      "Male",
                      "No",
                      "Graduate"
                    ],
                    [
                      "Male",
                      "Yes",
                      "Graduate"
                    ],
                    [
                      "Male",
                      "Yes",
                      "Not Graduate"
                    ],
                    [
                      "Male",
                      "Yes",
                      "Graduate"
                    ],
                    [
                      "Male",
                      "Yes",
                      "Graduate"
                    ],
                    [
                      "Male",
                      "Yes",
                      "Graduate"
                    ],
                    [
                      "Male",
                      "Yes",
                      "Graduate"
                    ],
                    [
                      "Male",
                      "Yes",
                      "Graduate"
                    ],
                    [
                      "Male",
                      "Yes",
                      "Not Graduate"
                    ],
                    [
                      "Male",
                      "Yes",
                      "Graduate"
                    ],
                    [
                      "Male",
                      "Yes",
                      "Graduate"
                    ],
                    [
                      "Male",
                      "Yes",
                      "Graduate"
                    ],
                    [
                      "Male",
                      "Yes",
                      "Graduate"
                    ],
                    [
                      "Male",
                      "Yes",
                      "Graduate"
                    ],
                    [
                      "Male",
                      "Yes",
                      "Graduate"
                    ],
                    [
                      "Female",
                      "Yes",
                      "Graduate"
                    ],
                    [
                      "Male",
                      "Yes",
                      "Graduate"
                    ],
                    [
                      "Male",
                      "Yes",
                      "Graduate"
                    ],
                    [
                      "Male",
                      "Yes",
                      "Graduate"
                    ],
                    [
                      "Male",
                      "Yes",
                      "Graduate"
                    ],
                    [
                      "Male",
                      "No",
                      "Not Graduate"
                    ],
                    [
                      "Male",
                      "No",
                      "Graduate"
                    ],
                    [
                      "Male",
                      "No",
                      "Graduate"
                    ],
                    [
                      "Male",
                      "No",
                      "Graduate"
                    ],
                    [
                      "Female",
                      "No",
                      "Not Graduate"
                    ],
                    [
                      "Female",
                      "Yes",
                      "Graduate"
                    ],
                    [
                      "Male",
                      "Yes",
                      "Not Graduate"
                    ],
                    [
                      "Male",
                      "No",
                      "Graduate"
                    ],
                    [
                      "Male",
                      "Yes",
                      "Not Graduate"
                    ],
                    [
                      "Male",
                      "Yes",
                      "Not Graduate"
                    ],
                    [
                      "Female",
                      "No",
                      "Not Graduate"
                    ],
                    [
                      "Female",
                      "No",
                      "Graduate"
                    ],
                    [
                      "Male",
                      "No",
                      "Not Graduate"
                    ],
                    [
                      "Male",
                      "No",
                      "Graduate"
                    ],
                    [
                      "Male",
                      "Yes",
                      "Graduate"
                    ],
                    [
                      "Male",
                      "Yes",
                      "Not Graduate"
                    ],
                    [
                      "Male",
                      "Yes",
                      "Graduate"
                    ],
                    [
                      "Male",
                      "Yes",
                      "Not Graduate"
                    ],
                    [
                      "Male",
                      "Yes",
                      "Graduate"
                    ],
                    [
                      "Female",
                      "Yes",
                      "Graduate"
                    ],
                    [
                      "Male",
                      "Yes",
                      "Graduate"
                    ],
                    [
                      "Male",
                      "No",
                      "Graduate"
                    ],
                    [
                      "Male",
                      "Yes",
                      "Graduate"
                    ],
                    [
                      "Male",
                      "Yes",
                      "Graduate"
                    ],
                    [
                      "Male",
                      "Yes",
                      "Graduate"
                    ],
                    [
                      "Male",
                      "Yes",
                      "Graduate"
                    ],
                    [
                      "Male",
                      "No",
                      "Graduate"
                    ],
                    [
                      "Male",
                      "Yes",
                      "Graduate"
                    ],
                    [
                      "Male",
                      "Yes",
                      "Graduate"
                    ],
                    [
                      "Male",
                      "No",
                      "Not Graduate"
                    ],
                    [
                      "Female",
                      "No",
                      "Graduate"
                    ],
                    [
                      "Male",
                      "Yes",
                      "Graduate"
                    ],
                    [
                      "Male",
                      "Yes",
                      "Graduate"
                    ],
                    [
                      "Female",
                      "No",
                      "Graduate"
                    ],
                    [
                      "Female",
                      "No",
                      "Graduate"
                    ],
                    [
                      "Male",
                      "Yes",
                      "Graduate"
                    ],
                    [
                      "Male",
                      "Yes",
                      "Graduate"
                    ],
                    [
                      "Male",
                      "No",
                      "Graduate"
                    ],
                    [
                      "Male",
                      "Yes",
                      "Graduate"
                    ],
                    [
                      "Male",
                      "Yes",
                      "Not Graduate"
                    ],
                    [
                      "Male",
                      "Yes",
                      "Graduate"
                    ],
                    [
                      "Male",
                      "Yes",
                      "Not Graduate"
                    ],
                    [
                      "Male",
                      "Yes",
                      "Graduate"
                    ],
                    [
                      "Male",
                      "Yes",
                      "Graduate"
                    ],
                    [
                      "Male",
                      "No",
                      "Not Graduate"
                    ],
                    [
                      "Male",
                      "Yes",
                      "Not Graduate"
                    ],
                    [
                      "Female",
                      "No",
                      "Graduate"
                    ],
                    [
                      "Male",
                      "Yes",
                      "Graduate"
                    ],
                    [
                      "Male",
                      "No",
                      "Graduate"
                    ],
                    [
                      "Female",
                      "No",
                      "Graduate"
                    ],
                    [
                      "Male",
                      "No",
                      "Graduate"
                    ],
                    [
                      "Male",
                      "No",
                      "Graduate"
                    ],
                    [
                      "Male",
                      "Yes",
                      "Graduate"
                    ],
                    [
                      "Male",
                      "Yes",
                      "Graduate"
                    ],
                    [
                      "Female",
                      "No",
                      "Graduate"
                    ],
                    [
                      "Female",
                      "No",
                      "Graduate"
                    ],
                    [
                      "Male",
                      "Yes",
                      "Graduate"
                    ],
                    [
                      "Male",
                      "No",
                      "Graduate"
                    ],
                    [
                      "Male",
                      "Yes",
                      "Graduate"
                    ],
                    [
                      "Male",
                      "Yes",
                      "Graduate"
                    ],
                    [
                      "Male",
                      "Yes",
                      "Graduate"
                    ],
                    [
                      "Male",
                      "Yes",
                      "Graduate"
                    ],
                    [
                      "Male",
                      "Yes",
                      "Graduate"
                    ],
                    [
                      "Male",
                      "Yes",
                      "Graduate"
                    ],
                    [
                      "Female",
                      "Yes",
                      "Not Graduate"
                    ],
                    [
                      "Male",
                      "Yes",
                      "Graduate"
                    ],
                    [
                      "Male",
                      "Yes",
                      "Graduate"
                    ],
                    [
                      "Female",
                      "No",
                      "Graduate"
                    ],
                    [
                      "Male",
                      "No",
                      "Graduate"
                    ],
                    [
                      "Male",
                      "Yes",
                      "Graduate"
                    ],
                    [
                      "Female",
                      "No",
                      "Graduate"
                    ],
                    [
                      "Male",
                      "No",
                      "Graduate"
                    ],
                    [
                      "Male",
                      "Yes",
                      "Graduate"
                    ],
                    [
                      "Male",
                      "Yes",
                      "Graduate"
                    ],
                    [
                      "Male",
                      "Yes",
                      "Graduate"
                    ],
                    [
                      "Male",
                      "Yes",
                      "Graduate"
                    ],
                    [
                      "Male",
                      "Yes",
                      "Graduate"
                    ],
                    [
                      "Female",
                      "Yes",
                      "Graduate"
                    ],
                    [
                      "Male",
                      "Yes",
                      "Not Graduate"
                    ],
                    [
                      "Female",
                      "No",
                      "Graduate"
                    ],
                    [
                      "Male",
                      "Yes",
                      "Graduate"
                    ],
                    [
                      "Male",
                      "No",
                      "Graduate"
                    ],
                    [
                      "Female",
                      "No",
                      "Graduate"
                    ],
                    [
                      "Male",
                      "Yes",
                      "Not Graduate"
                    ],
                    [
                      "Female",
                      "No",
                      "Graduate"
                    ],
                    [
                      "Male",
                      "No",
                      "Not Graduate"
                    ],
                    [
                      "Female",
                      "No",
                      "Graduate"
                    ],
                    [
                      "Male",
                      "Yes",
                      "Graduate"
                    ],
                    [
                      "Male",
                      "Yes",
                      "Not Graduate"
                    ],
                    [
                      "Male",
                      "Yes",
                      "Graduate"
                    ],
                    [
                      "Male",
                      "Yes",
                      "Graduate"
                    ],
                    [
                      "Female",
                      "No",
                      "Graduate"
                    ],
                    [
                      "Male",
                      "Yes",
                      "Graduate"
                    ],
                    [
                      "Male",
                      "Yes",
                      "Graduate"
                    ],
                    [
                      "Male",
                      "Yes",
                      "Not Graduate"
                    ],
                    [
                      "Female",
                      "No",
                      "Graduate"
                    ],
                    [
                      "Male",
                      "Yes",
                      "Graduate"
                    ],
                    [
                      "Male",
                      "No",
                      "Graduate"
                    ],
                    [
                      "Male",
                      "Yes",
                      "Graduate"
                    ],
                    [
                      "Female",
                      "No",
                      "Graduate"
                    ],
                    [
                      "Male",
                      "No",
                      "Graduate"
                    ],
                    [
                      "Male",
                      "No",
                      "Graduate"
                    ],
                    [
                      "Male",
                      "No",
                      "Graduate"
                    ],
                    [
                      "Male",
                      "Yes",
                      "Graduate"
                    ],
                    [
                      "Male",
                      "Yes",
                      "Graduate"
                    ],
                    [
                      "Male",
                      "Yes",
                      "Graduate"
                    ],
                    [
                      "Male",
                      "Yes",
                      "Graduate"
                    ],
                    [
                      "Male",
                      "Yes",
                      "Graduate"
                    ],
                    [
                      "Female",
                      "No",
                      "Graduate"
                    ],
                    [
                      "Male",
                      "Yes",
                      "Not Graduate"
                    ],
                    [
                      "Male",
                      "Yes",
                      "Not Graduate"
                    ],
                    [
                      "Male",
                      "Yes",
                      "Graduate"
                    ],
                    [
                      "Male",
                      "Yes",
                      "Graduate"
                    ],
                    [
                      "Male",
                      "Yes",
                      "Not Graduate"
                    ],
                    [
                      "Male",
                      "Yes",
                      "Graduate"
                    ],
                    [
                      "Male",
                      "Yes",
                      "Graduate"
                    ],
                    [
                      "Male",
                      "Yes",
                      "Graduate"
                    ],
                    [
                      "Male",
                      "Yes",
                      "Graduate"
                    ],
                    [
                      "Female",
                      "Yes",
                      "Graduate"
                    ],
                    [
                      "Female",
                      "No",
                      "Graduate"
                    ],
                    [
                      "Male",
                      "Yes",
                      "Graduate"
                    ],
                    [
                      "Male",
                      "Yes",
                      "Graduate"
                    ],
                    [
                      "Male",
                      "Yes",
                      "Graduate"
                    ],
                    [
                      "Male",
                      "Yes",
                      "Graduate"
                    ],
                    [
                      "Male",
                      "Yes",
                      "Graduate"
                    ],
                    [
                      "Male",
                      "No",
                      "Graduate"
                    ],
                    [
                      "Male",
                      "Yes",
                      "Graduate"
                    ],
                    [
                      "Female",
                      "No",
                      "Graduate"
                    ],
                    [
                      "Male",
                      "Yes",
                      "Graduate"
                    ],
                    [
                      "Male",
                      "Yes",
                      "Graduate"
                    ],
                    [
                      "Female",
                      "No",
                      "Graduate"
                    ],
                    [
                      "Male",
                      "Yes",
                      "Graduate"
                    ],
                    [
                      "Male",
                      "Yes",
                      "Graduate"
                    ],
                    [
                      "Male",
                      "Yes",
                      "Graduate"
                    ],
                    [
                      "Male",
                      "Yes",
                      "Graduate"
                    ],
                    [
                      "Male",
                      "Yes",
                      "Graduate"
                    ],
                    [
                      "Male",
                      "No",
                      "Graduate"
                    ],
                    [
                      "Female",
                      "No",
                      "Graduate"
                    ],
                    [
                      "Male",
                      "No",
                      "Graduate"
                    ],
                    [
                      "Male",
                      "No",
                      "Graduate"
                    ],
                    [
                      "Male",
                      "No",
                      "Not Graduate"
                    ],
                    [
                      "Male",
                      "Yes",
                      "Graduate"
                    ],
                    [
                      "Male",
                      "Yes",
                      "Graduate"
                    ],
                    [
                      "Male",
                      "No",
                      "Graduate"
                    ],
                    [
                      "Male",
                      "Yes",
                      "Graduate"
                    ],
                    [
                      "Male",
                      "Yes",
                      "Graduate"
                    ],
                    [
                      "Male",
                      "Yes",
                      "Not Graduate"
                    ],
                    [
                      "Male",
                      "Yes",
                      "Graduate"
                    ],
                    [
                      "Male",
                      "Yes",
                      "Graduate"
                    ],
                    [
                      "Male",
                      "Yes",
                      "Graduate"
                    ],
                    [
                      "Male",
                      "No",
                      "Not Graduate"
                    ],
                    [
                      "Male",
                      "No",
                      "Graduate"
                    ],
                    [
                      "Female",
                      "No",
                      "Not Graduate"
                    ],
                    [
                      "Female",
                      "No",
                      "Graduate"
                    ],
                    [
                      "Male",
                      "Yes",
                      "Not Graduate"
                    ],
                    [
                      "Female",
                      "No",
                      "Not Graduate"
                    ],
                    [
                      "Male",
                      "Yes",
                      "Graduate"
                    ],
                    [
                      "Male",
                      "Yes",
                      "Not Graduate"
                    ],
                    [
                      "Female",
                      "No",
                      "Graduate"
                    ],
                    [
                      "Male",
                      "Yes",
                      "Graduate"
                    ],
                    [
                      "Male",
                      "Yes",
                      "Graduate"
                    ],
                    [
                      "Male",
                      "Yes",
                      "Graduate"
                    ],
                    [
                      "Male",
                      "Yes",
                      "Graduate"
                    ],
                    [
                      "Male",
                      "Yes",
                      "Graduate"
                    ],
                    [
                      "Male",
                      "Yes",
                      "Graduate"
                    ],
                    [
                      "Male",
                      "Yes",
                      "Graduate"
                    ],
                    [
                      "Male",
                      "Yes",
                      "Graduate"
                    ],
                    [
                      "Male",
                      "No",
                      "Not Graduate"
                    ],
                    [
                      "Female",
                      "No",
                      "Graduate"
                    ],
                    [
                      "Male",
                      "No",
                      "Graduate"
                    ],
                    [
                      "Male",
                      "Yes",
                      "Graduate"
                    ],
                    [
                      "Male",
                      "No",
                      "Graduate"
                    ],
                    [
                      "Female",
                      "Yes",
                      "Graduate"
                    ],
                    [
                      "Male",
                      "No",
                      "Graduate"
                    ],
                    [
                      "Male",
                      "Yes",
                      "Graduate"
                    ],
                    [
                      "Female",
                      "Yes",
                      "Not Graduate"
                    ],
                    [
                      "Male",
                      "No",
                      "Graduate"
                    ],
                    [
                      "Male",
                      "Yes",
                      "Graduate"
                    ],
                    [
                      "Male",
                      "No",
                      "Not Graduate"
                    ],
                    [
                      "Male",
                      "No",
                      "Graduate"
                    ],
                    [
                      "Male",
                      "Yes",
                      "Graduate"
                    ],
                    [
                      "Male",
                      "Yes",
                      "Graduate"
                    ],
                    [
                      "Male",
                      "Yes",
                      "Not Graduate"
                    ],
                    [
                      "Male",
                      "Yes",
                      "Not Graduate"
                    ],
                    [
                      "Male",
                      "Yes",
                      "Graduate"
                    ],
                    [
                      "Male",
                      "No",
                      "Graduate"
                    ],
                    [
                      "Male",
                      "Yes",
                      "Graduate"
                    ],
                    [
                      "Male",
                      "Yes",
                      "Graduate"
                    ],
                    [
                      "Male",
                      "No",
                      "Graduate"
                    ],
                    [
                      "Male",
                      "Yes",
                      "Graduate"
                    ],
                    [
                      "Male",
                      "Yes",
                      "Graduate"
                    ],
                    [
                      "Male",
                      "Yes",
                      "Graduate"
                    ],
                    [
                      "Female",
                      "No",
                      "Not Graduate"
                    ],
                    [
                      "Male",
                      "No",
                      "Graduate"
                    ],
                    [
                      "Male",
                      "Yes",
                      "Graduate"
                    ],
                    [
                      "Female",
                      "Yes",
                      "Not Graduate"
                    ],
                    [
                      "Male",
                      "Yes",
                      "Graduate"
                    ],
                    [
                      "Male",
                      "Yes",
                      "Graduate"
                    ],
                    [
                      "Female",
                      "No",
                      "Graduate"
                    ],
                    [
                      "Male",
                      "No",
                      "Graduate"
                    ],
                    [
                      "Male",
                      "Yes",
                      "Graduate"
                    ],
                    [
                      "Male",
                      "Yes",
                      "Graduate"
                    ],
                    [
                      "Male",
                      "Yes",
                      "Graduate"
                    ],
                    [
                      "Female",
                      "No",
                      "Not Graduate"
                    ],
                    [
                      "Male",
                      "Yes",
                      "Not Graduate"
                    ],
                    [
                      "Male",
                      "Yes",
                      "Graduate"
                    ],
                    [
                      "Male",
                      "Yes",
                      "Graduate"
                    ],
                    [
                      "Male",
                      "Yes",
                      "Graduate"
                    ],
                    [
                      "Male",
                      "Yes",
                      "Not Graduate"
                    ],
                    [
                      "Male",
                      "Yes",
                      "Graduate"
                    ],
                    [
                      "Male",
                      "No",
                      "Not Graduate"
                    ],
                    [
                      "Male",
                      "Yes",
                      "Not Graduate"
                    ],
                    [
                      "Male",
                      "No",
                      "Not Graduate"
                    ],
                    [
                      "Female",
                      "No",
                      "Not Graduate"
                    ],
                    [
                      "Female",
                      "Yes",
                      "Graduate"
                    ],
                    [
                      "Male",
                      "Yes",
                      "Not Graduate"
                    ],
                    [
                      "Male",
                      "Yes",
                      "Graduate"
                    ],
                    [
                      "Male",
                      "Yes",
                      "Graduate"
                    ],
                    [
                      "Female",
                      "No",
                      "Graduate"
                    ],
                    [
                      "Female",
                      "No",
                      "Graduate"
                    ],
                    [
                      "Male",
                      "Yes",
                      "Graduate"
                    ],
                    [
                      "Male",
                      "Yes",
                      "Not Graduate"
                    ],
                    [
                      "Male",
                      "Yes",
                      "Graduate"
                    ],
                    [
                      "Male",
                      "Yes",
                      "Graduate"
                    ],
                    [
                      "Male",
                      "Yes",
                      "Graduate"
                    ],
                    [
                      "Female",
                      "No",
                      "Graduate"
                    ],
                    [
                      "Male",
                      "Yes",
                      "Graduate"
                    ],
                    [
                      "Male",
                      "Yes",
                      "Graduate"
                    ],
                    [
                      "Male",
                      "Yes",
                      "Graduate"
                    ],
                    [
                      "Female",
                      "Yes",
                      "Graduate"
                    ],
                    [
                      "Male",
                      "Yes",
                      "Not Graduate"
                    ],
                    [
                      "Male",
                      "No",
                      "Graduate"
                    ],
                    [
                      "Male",
                      "Yes",
                      "Graduate"
                    ],
                    [
                      "Male",
                      "Yes",
                      "Graduate"
                    ],
                    [
                      "Male",
                      "Yes",
                      "Graduate"
                    ],
                    [
                      "Male",
                      "Yes",
                      "Graduate"
                    ],
                    [
                      "Male",
                      "Yes",
                      "Not Graduate"
                    ],
                    [
                      "Male",
                      "No",
                      "Not Graduate"
                    ],
                    [
                      "Male",
                      "No",
                      "Not Graduate"
                    ],
                    [
                      "Male",
                      "Yes",
                      "Graduate"
                    ],
                    [
                      "Male",
                      "Yes",
                      "Graduate"
                    ],
                    [
                      "Female",
                      "No",
                      "Not Graduate"
                    ],
                    [
                      "Male",
                      "No",
                      "Not Graduate"
                    ],
                    [
                      "Male",
                      "Yes",
                      "Graduate"
                    ],
                    [
                      "Male",
                      "No",
                      "Graduate"
                    ],
                    [
                      "Male",
                      "Yes",
                      "Graduate"
                    ],
                    [
                      "Female",
                      "Yes",
                      "Graduate"
                    ],
                    [
                      "Female",
                      "No",
                      "Graduate"
                    ],
                    [
                      "Male",
                      "Yes",
                      "Not Graduate"
                    ],
                    [
                      "Female",
                      "Yes",
                      "Not Graduate"
                    ],
                    [
                      "Male",
                      "Yes",
                      "Graduate"
                    ],
                    [
                      "Male",
                      "No",
                      "Graduate"
                    ],
                    [
                      "Male",
                      "Yes",
                      "Graduate"
                    ],
                    [
                      "Male",
                      "Yes",
                      "Not Graduate"
                    ],
                    [
                      "Male",
                      "Yes",
                      "Graduate"
                    ],
                    [
                      "Male",
                      "Yes",
                      "Graduate"
                    ],
                    [
                      "Female",
                      "No",
                      "Graduate"
                    ],
                    [
                      "Male",
                      "Yes",
                      "Graduate"
                    ],
                    [
                      "Male",
                      "Yes",
                      "Graduate"
                    ],
                    [
                      "Female",
                      "Yes",
                      "Graduate"
                    ],
                    [
                      "Male",
                      "Yes",
                      "Not Graduate"
                    ],
                    [
                      "Female",
                      "Yes",
                      "Graduate"
                    ],
                    [
                      "Male",
                      "Yes",
                      "Graduate"
                    ],
                    [
                      "Male",
                      "No",
                      "Not Graduate"
                    ],
                    [
                      "Male",
                      "Yes",
                      "Not Graduate"
                    ],
                    [
                      "Male",
                      "No",
                      "Graduate"
                    ],
                    [
                      "Male",
                      "Yes",
                      "Graduate"
                    ],
                    [
                      "Male",
                      "Yes",
                      "Graduate"
                    ],
                    [
                      "Male",
                      "Yes",
                      "Graduate"
                    ],
                    [
                      "Male",
                      "No",
                      "Graduate"
                    ],
                    [
                      "Male",
                      "Yes",
                      "Graduate"
                    ],
                    [
                      "Male",
                      "No",
                      "Graduate"
                    ],
                    [
                      "Male",
                      "Yes",
                      "Graduate"
                    ],
                    [
                      "Female",
                      "Yes",
                      "Graduate"
                    ],
                    [
                      "Male",
                      "Yes",
                      "Graduate"
                    ],
                    [
                      "Female",
                      "No",
                      "Not Graduate"
                    ],
                    [
                      "Male",
                      "No",
                      "Graduate"
                    ],
                    [
                      "Male",
                      "Yes",
                      "Graduate"
                    ],
                    [
                      "Male",
                      "No",
                      "Graduate"
                    ],
                    [
                      "Male",
                      "Yes",
                      "Graduate"
                    ],
                    [
                      "Male",
                      "Yes",
                      "Graduate"
                    ],
                    [
                      "Male",
                      "No",
                      "Not Graduate"
                    ],
                    [
                      "Male",
                      "Yes",
                      "Graduate"
                    ],
                    [
                      "Male",
                      "Yes",
                      "Graduate"
                    ],
                    [
                      "Male",
                      "Yes",
                      "Not Graduate"
                    ],
                    [
                      "Male",
                      "Yes",
                      "Graduate"
                    ],
                    [
                      "Male",
                      "No",
                      "Graduate"
                    ],
                    [
                      "Female",
                      "Yes",
                      "Graduate"
                    ],
                    [
                      "Male",
                      "Yes",
                      "Graduate"
                    ],
                    [
                      "Male",
                      "Yes",
                      "Not Graduate"
                    ],
                    [
                      "Male",
                      "Yes",
                      "Graduate"
                    ],
                    [
                      "Female",
                      "No",
                      "Graduate"
                    ],
                    [
                      "Male",
                      "Yes",
                      "Graduate"
                    ],
                    [
                      "Male",
                      "Yes",
                      "Graduate"
                    ],
                    [
                      "Male",
                      "Yes",
                      "Graduate"
                    ]
                  ],
                  "hovertemplate": "Loan_Status=Y<br>ApplicantIncome=%{x}<br>LoanAmount=%{y}<br>CoapplicantIncome=%{marker.size}<br>Gender=%{customdata[0]}<br>Married=%{customdata[1]}<br>Education=%{customdata[2]}<extra></extra>",
                  "legendgroup": "Y",
                  "marker": {
                    "color": "#636efa",
                    "size": [
                      0,
                      0,
                      2358,
                      0,
                      4196,
                      1516,
                      1526,
                      700,
                      1840,
                      8106,
                      1086,
                      0,
                      0,
                      3500,
                      5625,
                      0,
                      2253,
                      1040,
                      2083,
                      1667,
                      2067,
                      1459,
                      7210,
                      1668,
                      1213,
                      0,
                      2336,
                      0,
                      0,
                      0,
                      0,
                      2275,
                      1644,
                      0,
                      1167,
                      1591,
                      2250,
                      2859,
                      3796,
                      0,
                      0,
                      0,
                      3066,
                      1875,
                      0,
                      1774,
                      2166,
                      0,
                      0,
                      0,
                      2531,
                      2000,
                      2118,
                      0,
                      4167,
                      2900,
                      5654,
                      1820,
                      0,
                      0,
                      2302,
                      997,
                      0,
                      3541,
                      3263,
                      3806,
                      0,
                      3583,
                      754,
                      1030,
                      1126,
                      754,
                      0,
                      2333,
                      0,
                      0,
                      0,
                      2283,
                      1398,
                      0,
                      2667,
                      0,
                      8980,
                      0,
                      2014,
                      0,
                      0,
                      1640,
                      0,
                      1929,
                      0,
                      0,
                      0,
                      3500,
                      0,
                      0,
                      2034,
                      0,
                      4486,
                      0,
                      1425,
                      830,
                      3750,
                      0,
                      0,
                      0,
                      0,
                      2083,
                      5625,
                      1041,
                      1447,
                      0,
                      3166,
                      3333,
                      0,
                      1769,
                      0,
                      5625,
                      1964,
                      1619,
                      0,
                      0,
                      0,
                      4750,
                      2138,
                      5296,
                      0,
                      0,
                      0,
                      0,
                      3750,
                      2365,
                      2816,
                      2500,
                      0,
                      1083,
                      0,
                      0,
                      0,
                      2531,
                      0,
                      0,
                      0,
                      3021,
                      983,
                      1775,
                      2383,
                      1717,
                      2791,
                      1010,
                      0,
                      1695,
                      0,
                      0,
                      2054,
                      0,
                      2598,
                      0,
                      1779,
                      1260,
                      0,
                      0,
                      0,
                      5000,
                      5701,
                      1300,
                      4417,
                      0,
                      0,
                      1843,
                      1868,
                      2167,
                      7101,
                      0,
                      4250,
                      2209,
                      0,
                      0,
                      3447,
                      1387,
                      1811,
                      1560,
                      0,
                      0,
                      1857,
                      2223,
                      0,
                      1842,
                      3274,
                      1300,
                      0,
                      0,
                      800,
                      985.7999878,
                      1666,
                      3053,
                      2000,
                      0,
                      0,
                      2416,
                      1560,
                      3334,
                      1250,
                      0,
                      0,
                      1750,
                      0,
                      1803,
                      2500,
                      1666,
                      0,
                      0,
                      2405,
                      0,
                      0,
                      1640,
                      0,
                      2134,
                      0,
                      2167,
                      189,
                      1590,
                      2985,
                      0,
                      0,
                      2160,
                      0,
                      1793,
                      0,
                      0,
                      0,
                      1833,
                      4490,
                      688,
                      4600,
                      0,
                      1229,
                      0,
                      2330,
                      2458,
                      2168,
                      4583,
                      6250,
                      0,
                      2083,
                      505,
                      0,
                      3167,
                      3167,
                      3667,
                      2333,
                      3033,
                      0,
                      0,
                      0,
                      0,
                      7873,
                      1459,
                      923,
                      4996,
                      0,
                      0,
                      2500,
                      4232,
                      0,
                      0,
                      0,
                      1600,
                      2417,
                      0,
                      0,
                      0,
                      2115,
                      1625,
                      1400,
                      484,
                      1459,
                      1666,
                      20000,
                      0,
                      0,
                      2400,
                      0,
                      0,
                      2033,
                      0,
                      2773,
                      1417,
                      0,
                      1719,
                      0,
                      4300,
                      0,
                      16.12000084,
                      0,
                      0,
                      0,
                      2340,
                      0,
                      0,
                      1851,
                      1125,
                      0,
                      5064,
                      1833,
                      1993,
                      0,
                      8333,
                      1210,
                      0,
                      1456,
                      2466,
                      0,
                      0,
                      0,
                      0,
                      4083,
                      0,
                      2188,
                      0,
                      0,
                      0,
                      2917,
                      2079,
                      0,
                      0,
                      4648,
                      1014,
                      1750,
                      2250,
                      0,
                      0,
                      3150,
                      0,
                      0,
                      2436,
                      2083,
                      2785,
                      1131,
                      0,
                      0,
                      913,
                      1700,
                      2857,
                      0,
                      3683,
                      0,
                      5624,
                      1483,
                      4416,
                      6667,
                      3013,
                      0,
                      2004,
                      2035,
                      3428,
                      1632,
                      1742,
                      0,
                      1424,
                      7166,
                      0,
                      0,
                      1430,
                      1302,
                      0,
                      5500,
                      0,
                      0,
                      2042,
                      3906,
                      0,
                      0,
                      2845,
                      0,
                      2524,
                      663,
                      1950,
                      1783,
                      2016,
                      2375,
                      3250,
                      1032,
                      1625,
                      0,
                      2669,
                      2306,
                      242,
                      0,
                      2054,
                      0,
                      0,
                      0,
                      1750,
                      0,
                      461,
                      2739,
                      2232,
                      2917,
                      0,
                      0,
                      1522,
                      0,
                      0,
                      3416,
                      0,
                      3300,
                      0,
                      0,
                      0,
                      0,
                      2792,
                      0,
                      4301,
                      0,
                      2500,
                      1411,
                      1950,
                      0,
                      0,
                      240,
                      0
                    ],
                    "sizemode": "area",
                    "sizeref": 104.1675,
                    "symbol": "circle"
                  },
                  "mode": "markers",
                  "name": "Y",
                  "orientation": "v",
                  "showlegend": true,
                  "type": "scatter",
                  "x": [
                    5849,
                    3000,
                    2583,
                    6000,
                    5417,
                    2333,
                    4006,
                    3200,
                    2500,
                    3073,
                    1299,
                    4950,
                    3596,
                    2600,
                    5955,
                    9560,
                    2799,
                    4226,
                    3750,
                    3500,
                    2275,
                    3667,
                    4166,
                    3748,
                    1800,
                    2400,
                    3941,
                    4695,
                    3410,
                    5649,
                    5821,
                    4000,
                    1928,
                    3086,
                    2708,
                    2132,
                    8080,
                    3357,
                    2500,
                    3029,
                    10750,
                    7100,
                    3208,
                    1875,
                    3500,
                    5266,
                    3333,
                    3846,
                    2395,
                    3988,
                    2366,
                    3333,
                    2500,
                    8566,
                    5695,
                    2958,
                    6250,
                    3273,
                    4133,
                    3620,
                    2484,
                    1977,
                    4188,
                    1759,
                    4288,
                    4843,
                    13650,
                    4652,
                    3816,
                    3052,
                    11417,
                    2071,
                    5316,
                    2929,
                    7451,
                    5050,
                    14583,
                    3167,
                    2214,
                    10408,
                    5667,
                    4166,
                    2137,
                    2957,
                    4300,
                    3692,
                    23803,
                    3865,
                    20166,
                    2014,
                    2718,
                    3459,
                    4895,
                    3316,
                    5417,
                    6950,
                    2698,
                    11757,
                    2330,
                    14866,
                    1538,
                    4860,
                    2577,
                    3254,
                    39999,
                    6000,
                    9538,
                    2980,
                    4583,
                    1863,
                    4167,
                    9323,
                    3707,
                    2439,
                    8000,
                    1820,
                    51763,
                    5708,
                    3497,
                    2045,
                    3750,
                    4600,
                    3625,
                    39147,
                    2383,
                    674,
                    9328,
                    4885,
                    3858,
                    4191,
                    8333,
                    1907,
                    3416,
                    2600,
                    4923,
                    3500,
                    3917,
                    4408,
                    3244,
                    3975,
                    2479,
                    7787,
                    5703,
                    3173,
                    3850,
                    3727,
                    4283,
                    4009,
                    2971,
                    7578,
                    6250,
                    6250,
                    4758,
                    6400,
                    2491,
                    3716,
                    3189,
                    8333,
                    3155,
                    5500,
                    3463,
                    3812,
                    3315,
                    5819,
                    2965,
                    6250,
                    3406,
                    9703,
                    6608,
                    2882,
                    1809,
                    2583,
                    2661,
                    3083,
                    6083,
                    2060,
                    7200,
                    5166,
                    4095,
                    4708,
                    4333,
                    2876,
                    3237,
                    11146,
                    2833,
                    2620,
                    3900,
                    2750,
                    3993,
                    3103,
                    14583,
                    4100,
                    3927,
                    2301,
                    1811,
                    3158,
                    3704,
                    4124,
                    9508,
                    3075,
                    3153,
                    2383,
                    4416,
                    6875,
                    4666,
                    2875,
                    5000,
                    1625,
                    4000,
                    3762,
                    7667,
                    2917,
                    2927,
                    2507,
                    5746,
                    3399,
                    3717,
                    2058,
                    3541,
                    2400,
                    4342,
                    3601,
                    3166,
                    15000,
                    4917,
                    5818,
                    2500,
                    4384,
                    2935,
                    2833,
                    63337,
                    9833,
                    5503,
                    5250,
                    2500,
                    4160,
                    4554,
                    3173,
                    2583,
                    2499,
                    3083,
                    6333,
                    2625,
                    9083,
                    2666,
                    2423,
                    3813,
                    8333,
                    5167,
                    5000,
                    4750,
                    3013,
                    6822,
                    6325,
                    15759,
                    5185,
                    9323,
                    2764,
                    4817,
                    8750,
                    4310,
                    5391,
                    3333,
                    5941,
                    6000,
                    7167,
                    3667,
                    2346,
                    2333,
                    5488,
                    9167,
                    9504,
                    2583,
                    1993,
                    3100,
                    3276,
                    3033,
                    3902,
                    2500,
                    1963,
                    4547,
                    2167,
                    2213,
                    6256,
                    2253,
                    2995,
                    1025,
                    3246,
                    5829,
                    1820,
                    14880,
                    2666,
                    5935,
                    2920,
                    2717,
                    8624,
                    12876,
                    2425,
                    3750,
                    10047,
                    1926,
                    2213,
                    7142,
                    3660,
                    7901,
                    4707,
                    37719,
                    7333,
                    3466,
                    4652,
                    1958,
                    2483,
                    7085,
                    3859,
                    4301,
                    4354,
                    2083,
                    7740,
                    3015,
                    5191,
                    6000,
                    16692,
                    210,
                    3450,
                    4691,
                    2500,
                    5532,
                    16525,
                    6700,
                    16667,
                    4350,
                    3095,
                    2083,
                    10833,
                    8333,
                    1958,
                    4583,
                    2699,
                    5333,
                    3691,
                    17263,
                    3326,
                    2600,
                    4625,
                    2895,
                    645,
                    3159,
                    4865,
                    3814,
                    3510,
                    20833,
                    2479,
                    13262,
                    6065,
                    3283,
                    3466,
                    2031,
                    2192,
                    2500,
                    5677,
                    7948,
                    17500,
                    3775,
                    5285,
                    2679,
                    6783,
                    1025,
                    4281,
                    18165,
                    2550,
                    6133,
                    3617,
                    6417,
                    4608,
                    3652,
                    2239,
                    3017,
                    2768,
                    2526,
                    2785,
                    2492,
                    3333,
                    5468,
                    2667,
                    10139,
                    3887,
                    4180,
                    3675,
                    19484,
                    5923,
                    5800,
                    4467,
                    3333,
                    3417,
                    16666,
                    3159,
                    3229,
                    1782,
                    3182,
                    6540,
                    3166,
                    2297,
                    2165,
                    4750,
                    3000,
                    9357,
                    3859,
                    16120,
                    3833,
                    9963,
                    5780,
                    2894,
                    5703,
                    3676,
                    12000,
                    3400,
                    3987,
                    3232,
                    2900,
                    4106,
                    8072,
                    7583
                  ],
                  "xaxis": "x",
                  "y": [
                    147.8,
                    66,
                    120,
                    141,
                    267,
                    95,
                    168,
                    70,
                    109,
                    200,
                    17,
                    125,
                    100,
                    115,
                    315,
                    191,
                    122,
                    110,
                    120,
                    114,
                    98.2,
                    144,
                    184,
                    110,
                    47,
                    75,
                    134,
                    96,
                    88,
                    44,
                    144,
                    144,
                    100,
                    120,
                    97,
                    96,
                    180,
                    144,
                    120,
                    99,
                    312,
                    125,
                    172,
                    97,
                    81,
                    187,
                    130,
                    111,
                    52.8,
                    50,
                    136,
                    99,
                    104,
                    210,
                    175,
                    131,
                    188,
                    81,
                    122,
                    25,
                    137,
                    50,
                    115,
                    131,
                    133,
                    151,
                    227.2,
                    174.4,
                    160,
                    100,
                    225,
                    94,
                    136,
                    139,
                    158,
                    118,
                    185,
                    154,
                    85,
                    259,
                    180,
                    44,
                    137,
                    81,
                    194,
                    93,
                    370,
                    123.8,
                    650,
                    74,
                    70,
                    25,
                    102,
                    88,
                    168,
                    175,
                    122,
                    187,
                    100,
                    70,
                    30,
                    125,
                    152,
                    50,
                    600,
                    160,
                    187,
                    120,
                    255,
                    98,
                    158,
                    75,
                    182,
                    129,
                    200,
                    95,
                    700,
                    187,
                    116,
                    101,
                    116,
                    73,
                    108,
                    120,
                    58,
                    168,
                    188,
                    48,
                    76,
                    120,
                    187,
                    120,
                    113,
                    90,
                    166,
                    135,
                    124,
                    120,
                    80,
                    55,
                    59,
                    240,
                    130,
                    137,
                    100,
                    131,
                    127,
                    116,
                    144,
                    175,
                    128,
                    210,
                    158,
                    200,
                    104,
                    42,
                    120,
                    280,
                    140,
                    170,
                    122,
                    112,
                    96,
                    120,
                    155,
                    108,
                    123,
                    112,
                    137,
                    123,
                    90,
                    104,
                    279,
                    255,
                    330,
                    134,
                    120,
                    128,
                    151,
                    150,
                    160,
                    90,
                    30,
                    136,
                    126,
                    150,
                    90,
                    115,
                    207,
                    80,
                    436,
                    124,
                    112,
                    78,
                    54,
                    89,
                    120,
                    115,
                    187,
                    139,
                    134,
                    172,
                    110,
                    200,
                    135,
                    105,
                    132,
                    96,
                    140,
                    135,
                    185,
                    84,
                    111,
                    56,
                    144,
                    111,
                    120,
                    88,
                    112,
                    115,
                    124,
                    126.8,
                    132,
                    300,
                    130,
                    184,
                    67,
                    117,
                    98,
                    71,
                    490,
                    182,
                    70,
                    160,
                    176,
                    71,
                    158,
                    74,
                    125,
                    160,
                    126,
                    259,
                    187,
                    228,
                    95,
                    130,
                    116,
                    165,
                    200,
                    236,
                    130,
                    95,
                    141,
                    175,
                    55,
                    155,
                    380,
                    110,
                    120,
                    130,
                    130,
                    130,
                    128,
                    296,
                    156,
                    128,
                    113,
                    132,
                    136,
                    125,
                    185,
                    275,
                    120,
                    113,
                    113,
                    135,
                    95,
                    109,
                    103,
                    53,
                    115,
                    115,
                    66,
                    160,
                    110,
                    60,
                    112,
                    138,
                    138,
                    100,
                    96,
                    121,
                    133,
                    87,
                    60,
                    150,
                    405,
                    143,
                    100,
                    184.2,
                    50,
                    87.2,
                    138,
                    187,
                    180,
                    148,
                    152,
                    175,
                    130,
                    110,
                    60,
                    90,
                    84,
                    96,
                    118,
                    136,
                    160,
                    128,
                    153,
                    132,
                    140,
                    110,
                    98,
                    162,
                    100,
                    93,
                    162,
                    150,
                    230,
                    86,
                    154,
                    113,
                    128,
                    234,
                    246,
                    131,
                    160,
                    96,
                    186,
                    110,
                    225,
                    105,
                    107,
                    111,
                    95,
                    113,
                    100,
                    208,
                    124,
                    243,
                    480,
                    188,
                    40,
                    250,
                    148,
                    150,
                    113,
                    45,
                    55,
                    100,
                    480,
                    400,
                    110,
                    161,
                    94,
                    130,
                    216,
                    100,
                    125,
                    126,
                    324,
                    107,
                    157,
                    140,
                    95,
                    128,
                    102,
                    155,
                    145,
                    110,
                    148.2,
                    158,
                    26,
                    84,
                    260,
                    162,
                    182,
                    108,
                    600,
                    211,
                    132,
                    120,
                    70,
                    186,
                    275,
                    108,
                    110,
                    107,
                    161,
                    205,
                    36,
                    104,
                    70,
                    94,
                    56,
                    292,
                    142,
                    260,
                    110,
                    180,
                    192,
                    155,
                    128,
                    172,
                    496,
                    173,
                    157,
                    108,
                    71,
                    40,
                    253,
                    187
                  ],
                  "yaxis": "y"
                },
                {
                  "customdata": [
                    [
                      "Male",
                      "Yes",
                      "Graduate"
                    ],
                    [
                      "Male",
                      "Yes",
                      "Graduate"
                    ],
                    [
                      "Male",
                      "Yes",
                      "Graduate"
                    ],
                    [
                      "Male",
                      "No",
                      "Graduate"
                    ],
                    [
                      "Female",
                      "No",
                      "Graduate"
                    ],
                    [
                      "Male",
                      "Yes",
                      "Not Graduate"
                    ],
                    [
                      "Male",
                      "Yes",
                      "Not Graduate"
                    ],
                    [
                      "Male",
                      "Yes",
                      "Not Graduate"
                    ],
                    [
                      "Male",
                      "Yes",
                      "Not Graduate"
                    ],
                    [
                      "Male",
                      "Yes",
                      "Graduate"
                    ],
                    [
                      "Male",
                      "No",
                      "Not Graduate"
                    ],
                    [
                      "Male",
                      "Yes",
                      "Graduate"
                    ],
                    [
                      "Male",
                      "No",
                      "Graduate"
                    ],
                    [
                      "Male",
                      "No",
                      "Graduate"
                    ],
                    [
                      "Male",
                      "No",
                      "Graduate"
                    ],
                    [
                      "Male",
                      "Yes",
                      "Graduate"
                    ],
                    [
                      "Male",
                      "No",
                      "Graduate"
                    ],
                    [
                      "Female",
                      "Yes",
                      "Graduate"
                    ],
                    [
                      "Female",
                      "No",
                      "Graduate"
                    ],
                    [
                      "Male",
                      "Yes",
                      "Graduate"
                    ],
                    [
                      "Female",
                      "Yes",
                      "Graduate"
                    ],
                    [
                      "Male",
                      "Yes",
                      "Graduate"
                    ],
                    [
                      "Male",
                      "Yes",
                      "Not Graduate"
                    ],
                    [
                      "Male",
                      "Yes",
                      "Graduate"
                    ],
                    [
                      "Female",
                      "No",
                      "Graduate"
                    ],
                    [
                      "Male",
                      "Yes",
                      "Graduate"
                    ],
                    [
                      "Male",
                      "No",
                      "Not Graduate"
                    ],
                    [
                      "Female",
                      "No",
                      "Graduate"
                    ],
                    [
                      "Male",
                      "Yes",
                      "Not Graduate"
                    ],
                    [
                      "Male",
                      "No",
                      "Graduate"
                    ],
                    [
                      "Male",
                      "No",
                      "Graduate"
                    ],
                    [
                      "Male",
                      "Yes",
                      "Graduate"
                    ],
                    [
                      "Male",
                      "Yes",
                      "Graduate"
                    ],
                    [
                      "Female",
                      "Yes",
                      "Graduate"
                    ],
                    [
                      "Male",
                      "Yes",
                      "Graduate"
                    ],
                    [
                      "Male",
                      "No",
                      "Graduate"
                    ],
                    [
                      "Male",
                      "No",
                      "Not Graduate"
                    ],
                    [
                      "Male",
                      "Yes",
                      "Graduate"
                    ],
                    [
                      "Male",
                      "Yes",
                      "Not Graduate"
                    ],
                    [
                      "Male",
                      "Yes",
                      "Graduate"
                    ],
                    [
                      "Male",
                      "Yes",
                      "Graduate"
                    ],
                    [
                      "Male",
                      "Yes",
                      "Graduate"
                    ],
                    [
                      "Male",
                      "Yes",
                      "Graduate"
                    ],
                    [
                      "Female",
                      "Yes",
                      "Graduate"
                    ],
                    [
                      "Male",
                      "No",
                      "Graduate"
                    ],
                    [
                      "Male",
                      "Yes",
                      "Not Graduate"
                    ],
                    [
                      "Male",
                      "Yes",
                      "Graduate"
                    ],
                    [
                      "Female",
                      "No",
                      "Graduate"
                    ],
                    [
                      "Male",
                      "No",
                      "Graduate"
                    ],
                    [
                      "Male",
                      "No",
                      "Graduate"
                    ],
                    [
                      "Male",
                      "Yes",
                      "Not Graduate"
                    ],
                    [
                      "Male",
                      "Yes",
                      "Graduate"
                    ],
                    [
                      "Male",
                      "Yes",
                      "Graduate"
                    ],
                    [
                      "Female",
                      "Yes",
                      "Graduate"
                    ],
                    [
                      "Male",
                      "No",
                      "Graduate"
                    ],
                    [
                      "Male",
                      "Yes",
                      "Not Graduate"
                    ],
                    [
                      "Male",
                      "Yes",
                      "Not Graduate"
                    ],
                    [
                      "Male",
                      "Yes",
                      "Graduate"
                    ],
                    [
                      "Male",
                      "No",
                      "Not Graduate"
                    ],
                    [
                      "Male",
                      "Yes",
                      "Graduate"
                    ],
                    [
                      "Male",
                      "No",
                      "Graduate"
                    ],
                    [
                      "Male",
                      "Yes",
                      "Graduate"
                    ],
                    [
                      "Male",
                      "Yes",
                      "Graduate"
                    ],
                    [
                      "Male",
                      "No",
                      "Graduate"
                    ],
                    [
                      "Male",
                      "Yes",
                      "Not Graduate"
                    ],
                    [
                      "Male",
                      "Yes",
                      "Graduate"
                    ],
                    [
                      "Male",
                      "No",
                      "Graduate"
                    ],
                    [
                      "Male",
                      "Yes",
                      "Not Graduate"
                    ],
                    [
                      "Male",
                      "No",
                      "Graduate"
                    ],
                    [
                      "Female",
                      "No",
                      "Graduate"
                    ],
                    [
                      "Male",
                      "Yes",
                      "Graduate"
                    ],
                    [
                      "Male",
                      "Yes",
                      "Graduate"
                    ],
                    [
                      "Male",
                      "Yes",
                      "Graduate"
                    ],
                    [
                      "Male",
                      "Yes",
                      "Graduate"
                    ],
                    [
                      "Male",
                      "Yes",
                      "Graduate"
                    ],
                    [
                      "Male",
                      "Yes",
                      "Not Graduate"
                    ],
                    [
                      "Male",
                      "Yes",
                      "Graduate"
                    ],
                    [
                      "Male",
                      "Yes",
                      "Not Graduate"
                    ],
                    [
                      "Male",
                      "No",
                      "Graduate"
                    ],
                    [
                      "Male",
                      "Yes",
                      "Not Graduate"
                    ],
                    [
                      "Female",
                      "No",
                      "Graduate"
                    ],
                    [
                      "Male",
                      "No",
                      "Graduate"
                    ],
                    [
                      "Male",
                      "No",
                      "Not Graduate"
                    ],
                    [
                      "Male",
                      "Yes",
                      "Graduate"
                    ],
                    [
                      "Male",
                      "Yes",
                      "Graduate"
                    ],
                    [
                      "Male",
                      "Yes",
                      "Not Graduate"
                    ],
                    [
                      "Female",
                      "No",
                      "Graduate"
                    ],
                    [
                      "Female",
                      "No",
                      "Graduate"
                    ],
                    [
                      "Male",
                      "No",
                      "Not Graduate"
                    ],
                    [
                      "Male",
                      "Yes",
                      "Graduate"
                    ],
                    [
                      "Female",
                      "No",
                      "Graduate"
                    ],
                    [
                      "Male",
                      "Yes",
                      "Graduate"
                    ],
                    [
                      "Female",
                      "No",
                      "Graduate"
                    ],
                    [
                      "Female",
                      "No",
                      "Graduate"
                    ],
                    [
                      "Male",
                      "Yes",
                      "Graduate"
                    ],
                    [
                      "Male",
                      "Yes",
                      "Not Graduate"
                    ],
                    [
                      "Male",
                      "No",
                      "Not Graduate"
                    ],
                    [
                      "Female",
                      "No",
                      "Graduate"
                    ],
                    [
                      "Male",
                      "No",
                      "Graduate"
                    ],
                    [
                      "Male",
                      "Yes",
                      "Graduate"
                    ],
                    [
                      "Male",
                      "Yes",
                      "Graduate"
                    ],
                    [
                      "Male",
                      "Yes",
                      "Graduate"
                    ],
                    [
                      "Female",
                      "Yes",
                      "Graduate"
                    ],
                    [
                      "Female",
                      "No",
                      "Not Graduate"
                    ],
                    [
                      "Male",
                      "Yes",
                      "Not Graduate"
                    ],
                    [
                      "Female",
                      "No",
                      "Graduate"
                    ],
                    [
                      "Male",
                      "Yes",
                      "Not Graduate"
                    ],
                    [
                      "Male",
                      "No",
                      "Graduate"
                    ],
                    [
                      "Female",
                      "Yes",
                      "Graduate"
                    ],
                    [
                      "Male",
                      "Yes",
                      "Graduate"
                    ],
                    [
                      "Male",
                      "Yes",
                      "Not Graduate"
                    ],
                    [
                      "Female",
                      "No",
                      "Graduate"
                    ],
                    [
                      "Male",
                      "No",
                      "Not Graduate"
                    ],
                    [
                      "Male",
                      "No",
                      "Graduate"
                    ],
                    [
                      "Male",
                      "No",
                      "Graduate"
                    ],
                    [
                      "Male",
                      "Yes",
                      "Graduate"
                    ],
                    [
                      "Male",
                      "No",
                      "Graduate"
                    ],
                    [
                      "Male",
                      "No",
                      "Graduate"
                    ],
                    [
                      "Male",
                      "Yes",
                      "Graduate"
                    ],
                    [
                      "Male",
                      "Yes",
                      "Not Graduate"
                    ],
                    [
                      "Female",
                      "No",
                      "Graduate"
                    ],
                    [
                      "Female",
                      "No",
                      "Graduate"
                    ],
                    [
                      "Male",
                      "Yes",
                      "Not Graduate"
                    ],
                    [
                      "Male",
                      "No",
                      "Not Graduate"
                    ],
                    [
                      "Female",
                      "No",
                      "Graduate"
                    ],
                    [
                      "Male",
                      "Yes",
                      "Graduate"
                    ],
                    [
                      "Male",
                      "Yes",
                      "Graduate"
                    ],
                    [
                      "Female",
                      "No",
                      "Not Graduate"
                    ],
                    [
                      "Male",
                      "Yes",
                      "Not Graduate"
                    ],
                    [
                      "Female",
                      "Yes",
                      "Not Graduate"
                    ],
                    [
                      "Female",
                      "No",
                      "Graduate"
                    ],
                    [
                      "Male",
                      "Yes",
                      "Graduate"
                    ],
                    [
                      "Female",
                      "No",
                      "Not Graduate"
                    ],
                    [
                      "Male",
                      "Yes",
                      "Graduate"
                    ],
                    [
                      "Female",
                      "No",
                      "Not Graduate"
                    ],
                    [
                      "Male",
                      "No",
                      "Graduate"
                    ],
                    [
                      "Male",
                      "No",
                      "Graduate"
                    ],
                    [
                      "Male",
                      "Yes",
                      "Graduate"
                    ],
                    [
                      "Male",
                      "Yes",
                      "Graduate"
                    ],
                    [
                      "Male",
                      "No",
                      "Not Graduate"
                    ],
                    [
                      "Male",
                      "Yes",
                      "Not Graduate"
                    ],
                    [
                      "Male",
                      "Yes",
                      "Graduate"
                    ],
                    [
                      "Male",
                      "Yes",
                      "Graduate"
                    ],
                    [
                      "Male",
                      "Yes",
                      "Graduate"
                    ],
                    [
                      "Male",
                      "No",
                      "Graduate"
                    ],
                    [
                      "Male",
                      "Yes",
                      "Not Graduate"
                    ],
                    [
                      "Male",
                      "Yes",
                      "Graduate"
                    ],
                    [
                      "Male",
                      "Yes",
                      "Not Graduate"
                    ],
                    [
                      "Male",
                      "Yes",
                      "Graduate"
                    ],
                    [
                      "Male",
                      "Yes",
                      "Graduate"
                    ],
                    [
                      "Male",
                      "No",
                      "Graduate"
                    ],
                    [
                      "Male",
                      "Yes",
                      "Graduate"
                    ],
                    [
                      "Male",
                      "No",
                      "Graduate"
                    ],
                    [
                      "Male",
                      "Yes",
                      "Graduate"
                    ],
                    [
                      "Male",
                      "No",
                      "Graduate"
                    ],
                    [
                      "Male",
                      "Yes",
                      "Not Graduate"
                    ],
                    [
                      "Male",
                      "No",
                      "Graduate"
                    ],
                    [
                      "Male",
                      "No",
                      "Not Graduate"
                    ],
                    [
                      "Male",
                      "Yes",
                      "Graduate"
                    ],
                    [
                      "Male",
                      "No",
                      "Graduate"
                    ],
                    [
                      "Male",
                      "Yes",
                      "Not Graduate"
                    ],
                    [
                      "Male",
                      "No",
                      "Graduate"
                    ],
                    [
                      "Female",
                      "No",
                      "Not Graduate"
                    ],
                    [
                      "Male",
                      "No",
                      "Graduate"
                    ],
                    [
                      "Male",
                      "No",
                      "Graduate"
                    ],
                    [
                      "Male",
                      "No",
                      "Graduate"
                    ],
                    [
                      "Male",
                      "Yes",
                      "Not Graduate"
                    ],
                    [
                      "Female",
                      "No",
                      "Graduate"
                    ],
                    [
                      "Male",
                      "No",
                      "Not Graduate"
                    ],
                    [
                      "Female",
                      "No",
                      "Graduate"
                    ],
                    [
                      "Male",
                      "Yes",
                      "Graduate"
                    ],
                    [
                      "Male",
                      "Yes",
                      "Not Graduate"
                    ],
                    [
                      "Male",
                      "Yes",
                      "Graduate"
                    ],
                    [
                      "Male",
                      "Yes",
                      "Graduate"
                    ],
                    [
                      "Male",
                      "Yes",
                      "Graduate"
                    ],
                    [
                      "Female",
                      "No",
                      "Graduate"
                    ],
                    [
                      "Male",
                      "Yes",
                      "Graduate"
                    ],
                    [
                      "Male",
                      "Yes",
                      "Graduate"
                    ],
                    [
                      "Male",
                      "Yes",
                      "Not Graduate"
                    ],
                    [
                      "Male",
                      "Yes",
                      "Graduate"
                    ],
                    [
                      "Male",
                      "Yes",
                      "Graduate"
                    ],
                    [
                      "Male",
                      "No",
                      "Graduate"
                    ],
                    [
                      "Male",
                      "Yes",
                      "Graduate"
                    ],
                    [
                      "Male",
                      "Yes",
                      "Graduate"
                    ],
                    [
                      "Male",
                      "Yes",
                      "Graduate"
                    ],
                    [
                      "Male",
                      "Yes",
                      "Graduate"
                    ],
                    [
                      "Male",
                      "Yes",
                      "Graduate"
                    ],
                    [
                      "Male",
                      "Yes",
                      "Not Graduate"
                    ],
                    [
                      "Male",
                      "No",
                      "Graduate"
                    ],
                    [
                      "Female",
                      "No",
                      "Graduate"
                    ],
                    [
                      "Male",
                      "Yes",
                      "Not Graduate"
                    ],
                    [
                      "Female",
                      "No",
                      "Graduate"
                    ]
                  ],
                  "hovertemplate": "Loan_Status=N<br>ApplicantIncome=%{x}<br>LoanAmount=%{y}<br>CoapplicantIncome=%{marker.size}<br>Gender=%{customdata[0]}<br>Married=%{customdata[1]}<br>Education=%{customdata[2]}<extra></extra>",
                  "legendgroup": "N",
                  "marker": {
                    "color": "#EF553B",
                    "size": [
                      1508,
                      2504,
                      10968,
                      2840,
                      0,
                      0,
                      0,
                      1911,
                      1917,
                      2925,
                      0,
                      3369,
                      0,
                      0,
                      3000,
                      1330,
                      0,
                      3440,
                      0,
                      0,
                      0,
                      2200,
                      3449,
                      0,
                      0,
                      4595,
                      2254,
                      0,
                      0,
                      0,
                      4750,
                      3022,
                      4000,
                      1881,
                      2250,
                      0,
                      0,
                      3600,
                      4114,
                      2142,
                      3850,
                      2569,
                      7750,
                      0,
                      0,
                      1430,
                      2083,
                      1666,
                      0,
                      0,
                      0,
                      0,
                      1280,
                      0,
                      0,
                      0,
                      736,
                      11300,
                      1451,
                      7250,
                      5063,
                      0,
                      0,
                      0,
                      0,
                      2583,
                      0,
                      0,
                      0,
                      0,
                      1250,
                      1800,
                      0,
                      0,
                      0,
                      0,
                      0,
                      1983,
                      4333,
                      3890,
                      0,
                      0,
                      0,
                      0,
                      2100,
                      0,
                      0,
                      0,
                      2426,
                      0,
                      1717,
                      0,
                      0,
                      2541,
                      2925,
                      2934,
                      0,
                      1863,
                      0,
                      1843,
                      0,
                      4983,
                      2451,
                      0,
                      1587,
                      0,
                      3230,
                      4167,
                      0,
                      0,
                      1666,
                      0,
                      0,
                      0,
                      0,
                      5266,
                      1987,
                      0,
                      0,
                      3136,
                      0,
                      1800,
                      0,
                      0,
                      0,
                      0,
                      0,
                      0,
                      0,
                      3237,
                      0,
                      20000,
                      0,
                      1667,
                      0,
                      0,
                      0,
                      1376,
                      1710,
                      1542,
                      1255,
                      1733,
                      2569,
                      0,
                      0,
                      1664,
                      2451,
                      1500,
                      1872,
                      1603,
                      0,
                      0,
                      0,
                      2157,
                      4416,
                      5302,
                      0,
                      1287,
                      6666,
                      3666,
                      1800,
                      1915,
                      0,
                      2087,
                      0,
                      0,
                      536,
                      0,
                      0,
                      0,
                      0,
                      2333,
                      4266,
                      0,
                      2500,
                      0,
                      2064,
                      1451,
                      1625,
                      0,
                      2210,
                      33837,
                      0,
                      1917,
                      3000,
                      0,
                      0,
                      1000,
                      0,
                      41667,
                      3800,
                      0
                    ],
                    "sizemode": "area",
                    "sizeref": 104.1675,
                    "symbol": "circle"
                  },
                  "mode": "markers",
                  "name": "N",
                  "orientation": "v",
                  "showlegend": true,
                  "type": "scatter",
                  "x": [
                    4583,
                    3036,
                    12841,
                    1853,
                    3510,
                    4887,
                    7660,
                    2600,
                    3365,
                    3717,
                    1442,
                    4166,
                    3167,
                    4692,
                    12500,
                    1828,
                    3600,
                    2645,
                    4230,
                    4616,
                    11500,
                    3366,
                    2609,
                    4945,
                    4166,
                    5726,
                    3200,
                    4300,
                    4755,
                    3750,
                    3750,
                    1000,
                    3167,
                    1378,
                    6000,
                    6782,
                    7333,
                    3800,
                    3572,
                    5568,
                    10513,
                    6080,
                    4000,
                    4583,
                    14999,
                    4200,
                    5042,
                    10000,
                    6277,
                    9166,
                    2281,
                    7933,
                    3089,
                    4583,
                    2237,
                    3522,
                    4344,
                    5516,
                    2333,
                    6400,
                    1916,
                    33846,
                    2178,
                    12000,
                    6033,
                    3125,
                    11000,
                    3992,
                    3418,
                    10000,
                    3430,
                    150,
                    5000,
                    2221,
                    3250,
                    4735,
                    5746,
                    2510,
                    6050,
                    1668,
                    3427,
                    16250,
                    6045,
                    5250,
                    14683,
                    4931,
                    3481,
                    3418,
                    4053,
                    20667,
                    2600,
                    4400,
                    5417,
                    5000,
                    2014,
                    1800,
                    2000,
                    2400,
                    20233,
                    2473,
                    10000,
                    8666,
                    4333,
                    1830,
                    2647,
                    2378,
                    3523,
                    8750,
                    5500,
                    3875,
                    3000,
                    4723,
                    6216,
                    2500,
                    5124,
                    19730,
                    3062,
                    3069,
                    4566,
                    3010,
                    3180,
                    1500,
                    2889,
                    2755,
                    7441,
                    8300,
                    81000,
                    3867,
                    6096,
                    2149,
                    2600,
                    1600,
                    2720,
                    7250,
                    4606,
                    6500,
                    10416,
                    3539,
                    3340,
                    2769,
                    2309,
                    3948,
                    3708,
                    8334,
                    4166,
                    2947,
                    4333,
                    2653,
                    2873,
                    2947,
                    3547,
                    18333,
                    2435,
                    3597,
                    6283,
                    4050,
                    3583,
                    3598,
                    2130,
                    5815,
                    3074,
                    4683,
                    3400,
                    4680,
                    3588,
                    11250,
                    2917,
                    2138,
                    3358,
                    5000,
                    6633,
                    2454,
                    3593,
                    8799,
                    3400,
                    2378,
                    3166,
                    5116,
                    6125,
                    6406,
                    3087,
                    1836,
                    1880,
                    2787,
                    4283,
                    2726,
                    6000,
                    6383,
                    2987,
                    416,
                    2400,
                    4583
                  ],
                  "xaxis": "x",
                  "y": [
                    128,
                    158,
                    349,
                    114,
                    76,
                    133,
                    104,
                    116,
                    112,
                    151,
                    35,
                    201,
                    74,
                    106,
                    320,
                    100,
                    80,
                    120,
                    112,
                    134,
                    286,
                    135,
                    165,
                    130.2,
                    116,
                    258,
                    126,
                    136,
                    95,
                    113,
                    176,
                    110,
                    180,
                    167,
                    265,
                    170.2,
                    120,
                    216,
                    152,
                    175,
                    160,
                    182,
                    290,
                    84,
                    242,
                    129,
                    185,
                    225,
                    118,
                    244,
                    113,
                    275,
                    121,
                    112,
                    63,
                    81,
                    87,
                    495,
                    102,
                    180,
                    67,
                    260,
                    66,
                    164,
                    160,
                    170,
                    83,
                    89,
                    127,
                    214,
                    128,
                    135,
                    72,
                    60,
                    170,
                    138,
                    255,
                    140,
                    120,
                    201,
                    138,
                    192,
                    115,
                    94,
                    304,
                    128,
                    155,
                    135,
                    158,
                    471,
                    99,
                    127,
                    143,
                    151,
                    113,
                    93,
                    69.8,
                    104,
                    480,
                    159,
                    155,
                    376,
                    110,
                    69.8,
                    173,
                    46,
                    152,
                    308,
                    105,
                    67,
                    100,
                    81,
                    133,
                    96,
                    124,
                    570,
                    111,
                    71,
                    100,
                    125,
                    71,
                    103,
                    45,
                    65,
                    194,
                    152,
                    360,
                    62,
                    218,
                    178,
                    160,
                    239,
                    80,
                    110,
                    81,
                    105,
                    187,
                    55,
                    150,
                    190,
                    125,
                    149,
                    173,
                    160,
                    98,
                    70,
                    110,
                    113,
                    132,
                    92,
                    80,
                    500,
                    75,
                    119,
                    209,
                    138,
                    96,
                    100,
                    70,
                    311,
                    123,
                    185,
                    95,
                    161.6,
                    110,
                    196,
                    66,
                    99,
                    80,
                    103,
                    143.6,
                    181,
                    132,
                    258,
                    123,
                    9,
                    104,
                    165,
                    187,
                    150,
                    136,
                    90,
                    61,
                    146,
                    172,
                    106,
                    205,
                    187,
                    88,
                    350,
                    134.4,
                    133
                  ],
                  "yaxis": "y"
                }
              ],
              "layout": {
                "legend": {
                  "itemsizing": "constant",
                  "title": {
                    "text": "Loan_Status"
                  },
                  "tracegroupgap": 0
                },
                "template": {
                  "data": {
                    "bar": [
                      {
                        "error_x": {
                          "color": "#2a3f5f"
                        },
                        "error_y": {
                          "color": "#2a3f5f"
                        },
                        "marker": {
                          "line": {
                            "color": "#E5ECF6",
                            "width": 0.5
                          },
                          "pattern": {
                            "fillmode": "overlay",
                            "size": 10,
                            "solidity": 0.2
                          }
                        },
                        "type": "bar"
                      }
                    ],
                    "barpolar": [
                      {
                        "marker": {
                          "line": {
                            "color": "#E5ECF6",
                            "width": 0.5
                          },
                          "pattern": {
                            "fillmode": "overlay",
                            "size": 10,
                            "solidity": 0.2
                          }
                        },
                        "type": "barpolar"
                      }
                    ],
                    "carpet": [
                      {
                        "aaxis": {
                          "endlinecolor": "#2a3f5f",
                          "gridcolor": "white",
                          "linecolor": "white",
                          "minorgridcolor": "white",
                          "startlinecolor": "#2a3f5f"
                        },
                        "baxis": {
                          "endlinecolor": "#2a3f5f",
                          "gridcolor": "white",
                          "linecolor": "white",
                          "minorgridcolor": "white",
                          "startlinecolor": "#2a3f5f"
                        },
                        "type": "carpet"
                      }
                    ],
                    "choropleth": [
                      {
                        "colorbar": {
                          "outlinewidth": 0,
                          "ticks": ""
                        },
                        "type": "choropleth"
                      }
                    ],
                    "contour": [
                      {
                        "colorbar": {
                          "outlinewidth": 0,
                          "ticks": ""
                        },
                        "colorscale": [
                          [
                            0,
                            "#0d0887"
                          ],
                          [
                            0.1111111111111111,
                            "#46039f"
                          ],
                          [
                            0.2222222222222222,
                            "#7201a8"
                          ],
                          [
                            0.3333333333333333,
                            "#9c179e"
                          ],
                          [
                            0.4444444444444444,
                            "#bd3786"
                          ],
                          [
                            0.5555555555555556,
                            "#d8576b"
                          ],
                          [
                            0.6666666666666666,
                            "#ed7953"
                          ],
                          [
                            0.7777777777777778,
                            "#fb9f3a"
                          ],
                          [
                            0.8888888888888888,
                            "#fdca26"
                          ],
                          [
                            1,
                            "#f0f921"
                          ]
                        ],
                        "type": "contour"
                      }
                    ],
                    "contourcarpet": [
                      {
                        "colorbar": {
                          "outlinewidth": 0,
                          "ticks": ""
                        },
                        "type": "contourcarpet"
                      }
                    ],
                    "heatmap": [
                      {
                        "colorbar": {
                          "outlinewidth": 0,
                          "ticks": ""
                        },
                        "colorscale": [
                          [
                            0,
                            "#0d0887"
                          ],
                          [
                            0.1111111111111111,
                            "#46039f"
                          ],
                          [
                            0.2222222222222222,
                            "#7201a8"
                          ],
                          [
                            0.3333333333333333,
                            "#9c179e"
                          ],
                          [
                            0.4444444444444444,
                            "#bd3786"
                          ],
                          [
                            0.5555555555555556,
                            "#d8576b"
                          ],
                          [
                            0.6666666666666666,
                            "#ed7953"
                          ],
                          [
                            0.7777777777777778,
                            "#fb9f3a"
                          ],
                          [
                            0.8888888888888888,
                            "#fdca26"
                          ],
                          [
                            1,
                            "#f0f921"
                          ]
                        ],
                        "type": "heatmap"
                      }
                    ],
                    "heatmapgl": [
                      {
                        "colorbar": {
                          "outlinewidth": 0,
                          "ticks": ""
                        },
                        "colorscale": [
                          [
                            0,
                            "#0d0887"
                          ],
                          [
                            0.1111111111111111,
                            "#46039f"
                          ],
                          [
                            0.2222222222222222,
                            "#7201a8"
                          ],
                          [
                            0.3333333333333333,
                            "#9c179e"
                          ],
                          [
                            0.4444444444444444,
                            "#bd3786"
                          ],
                          [
                            0.5555555555555556,
                            "#d8576b"
                          ],
                          [
                            0.6666666666666666,
                            "#ed7953"
                          ],
                          [
                            0.7777777777777778,
                            "#fb9f3a"
                          ],
                          [
                            0.8888888888888888,
                            "#fdca26"
                          ],
                          [
                            1,
                            "#f0f921"
                          ]
                        ],
                        "type": "heatmapgl"
                      }
                    ],
                    "histogram": [
                      {
                        "marker": {
                          "pattern": {
                            "fillmode": "overlay",
                            "size": 10,
                            "solidity": 0.2
                          }
                        },
                        "type": "histogram"
                      }
                    ],
                    "histogram2d": [
                      {
                        "colorbar": {
                          "outlinewidth": 0,
                          "ticks": ""
                        },
                        "colorscale": [
                          [
                            0,
                            "#0d0887"
                          ],
                          [
                            0.1111111111111111,
                            "#46039f"
                          ],
                          [
                            0.2222222222222222,
                            "#7201a8"
                          ],
                          [
                            0.3333333333333333,
                            "#9c179e"
                          ],
                          [
                            0.4444444444444444,
                            "#bd3786"
                          ],
                          [
                            0.5555555555555556,
                            "#d8576b"
                          ],
                          [
                            0.6666666666666666,
                            "#ed7953"
                          ],
                          [
                            0.7777777777777778,
                            "#fb9f3a"
                          ],
                          [
                            0.8888888888888888,
                            "#fdca26"
                          ],
                          [
                            1,
                            "#f0f921"
                          ]
                        ],
                        "type": "histogram2d"
                      }
                    ],
                    "histogram2dcontour": [
                      {
                        "colorbar": {
                          "outlinewidth": 0,
                          "ticks": ""
                        },
                        "colorscale": [
                          [
                            0,
                            "#0d0887"
                          ],
                          [
                            0.1111111111111111,
                            "#46039f"
                          ],
                          [
                            0.2222222222222222,
                            "#7201a8"
                          ],
                          [
                            0.3333333333333333,
                            "#9c179e"
                          ],
                          [
                            0.4444444444444444,
                            "#bd3786"
                          ],
                          [
                            0.5555555555555556,
                            "#d8576b"
                          ],
                          [
                            0.6666666666666666,
                            "#ed7953"
                          ],
                          [
                            0.7777777777777778,
                            "#fb9f3a"
                          ],
                          [
                            0.8888888888888888,
                            "#fdca26"
                          ],
                          [
                            1,
                            "#f0f921"
                          ]
                        ],
                        "type": "histogram2dcontour"
                      }
                    ],
                    "mesh3d": [
                      {
                        "colorbar": {
                          "outlinewidth": 0,
                          "ticks": ""
                        },
                        "type": "mesh3d"
                      }
                    ],
                    "parcoords": [
                      {
                        "line": {
                          "colorbar": {
                            "outlinewidth": 0,
                            "ticks": ""
                          }
                        },
                        "type": "parcoords"
                      }
                    ],
                    "pie": [
                      {
                        "automargin": true,
                        "type": "pie"
                      }
                    ],
                    "scatter": [
                      {
                        "fillpattern": {
                          "fillmode": "overlay",
                          "size": 10,
                          "solidity": 0.2
                        },
                        "type": "scatter"
                      }
                    ],
                    "scatter3d": [
                      {
                        "line": {
                          "colorbar": {
                            "outlinewidth": 0,
                            "ticks": ""
                          }
                        },
                        "marker": {
                          "colorbar": {
                            "outlinewidth": 0,
                            "ticks": ""
                          }
                        },
                        "type": "scatter3d"
                      }
                    ],
                    "scattercarpet": [
                      {
                        "marker": {
                          "colorbar": {
                            "outlinewidth": 0,
                            "ticks": ""
                          }
                        },
                        "type": "scattercarpet"
                      }
                    ],
                    "scattergeo": [
                      {
                        "marker": {
                          "colorbar": {
                            "outlinewidth": 0,
                            "ticks": ""
                          }
                        },
                        "type": "scattergeo"
                      }
                    ],
                    "scattergl": [
                      {
                        "marker": {
                          "colorbar": {
                            "outlinewidth": 0,
                            "ticks": ""
                          }
                        },
                        "type": "scattergl"
                      }
                    ],
                    "scattermapbox": [
                      {
                        "marker": {
                          "colorbar": {
                            "outlinewidth": 0,
                            "ticks": ""
                          }
                        },
                        "type": "scattermapbox"
                      }
                    ],
                    "scatterpolar": [
                      {
                        "marker": {
                          "colorbar": {
                            "outlinewidth": 0,
                            "ticks": ""
                          }
                        },
                        "type": "scatterpolar"
                      }
                    ],
                    "scatterpolargl": [
                      {
                        "marker": {
                          "colorbar": {
                            "outlinewidth": 0,
                            "ticks": ""
                          }
                        },
                        "type": "scatterpolargl"
                      }
                    ],
                    "scatterternary": [
                      {
                        "marker": {
                          "colorbar": {
                            "outlinewidth": 0,
                            "ticks": ""
                          }
                        },
                        "type": "scatterternary"
                      }
                    ],
                    "surface": [
                      {
                        "colorbar": {
                          "outlinewidth": 0,
                          "ticks": ""
                        },
                        "colorscale": [
                          [
                            0,
                            "#0d0887"
                          ],
                          [
                            0.1111111111111111,
                            "#46039f"
                          ],
                          [
                            0.2222222222222222,
                            "#7201a8"
                          ],
                          [
                            0.3333333333333333,
                            "#9c179e"
                          ],
                          [
                            0.4444444444444444,
                            "#bd3786"
                          ],
                          [
                            0.5555555555555556,
                            "#d8576b"
                          ],
                          [
                            0.6666666666666666,
                            "#ed7953"
                          ],
                          [
                            0.7777777777777778,
                            "#fb9f3a"
                          ],
                          [
                            0.8888888888888888,
                            "#fdca26"
                          ],
                          [
                            1,
                            "#f0f921"
                          ]
                        ],
                        "type": "surface"
                      }
                    ],
                    "table": [
                      {
                        "cells": {
                          "fill": {
                            "color": "#EBF0F8"
                          },
                          "line": {
                            "color": "white"
                          }
                        },
                        "header": {
                          "fill": {
                            "color": "#C8D4E3"
                          },
                          "line": {
                            "color": "white"
                          }
                        },
                        "type": "table"
                      }
                    ]
                  },
                  "layout": {
                    "annotationdefaults": {
                      "arrowcolor": "#2a3f5f",
                      "arrowhead": 0,
                      "arrowwidth": 1
                    },
                    "autotypenumbers": "strict",
                    "coloraxis": {
                      "colorbar": {
                        "outlinewidth": 0,
                        "ticks": ""
                      }
                    },
                    "colorscale": {
                      "diverging": [
                        [
                          0,
                          "#8e0152"
                        ],
                        [
                          0.1,
                          "#c51b7d"
                        ],
                        [
                          0.2,
                          "#de77ae"
                        ],
                        [
                          0.3,
                          "#f1b6da"
                        ],
                        [
                          0.4,
                          "#fde0ef"
                        ],
                        [
                          0.5,
                          "#f7f7f7"
                        ],
                        [
                          0.6,
                          "#e6f5d0"
                        ],
                        [
                          0.7,
                          "#b8e186"
                        ],
                        [
                          0.8,
                          "#7fbc41"
                        ],
                        [
                          0.9,
                          "#4d9221"
                        ],
                        [
                          1,
                          "#276419"
                        ]
                      ],
                      "sequential": [
                        [
                          0,
                          "#0d0887"
                        ],
                        [
                          0.1111111111111111,
                          "#46039f"
                        ],
                        [
                          0.2222222222222222,
                          "#7201a8"
                        ],
                        [
                          0.3333333333333333,
                          "#9c179e"
                        ],
                        [
                          0.4444444444444444,
                          "#bd3786"
                        ],
                        [
                          0.5555555555555556,
                          "#d8576b"
                        ],
                        [
                          0.6666666666666666,
                          "#ed7953"
                        ],
                        [
                          0.7777777777777778,
                          "#fb9f3a"
                        ],
                        [
                          0.8888888888888888,
                          "#fdca26"
                        ],
                        [
                          1,
                          "#f0f921"
                        ]
                      ],
                      "sequentialminus": [
                        [
                          0,
                          "#0d0887"
                        ],
                        [
                          0.1111111111111111,
                          "#46039f"
                        ],
                        [
                          0.2222222222222222,
                          "#7201a8"
                        ],
                        [
                          0.3333333333333333,
                          "#9c179e"
                        ],
                        [
                          0.4444444444444444,
                          "#bd3786"
                        ],
                        [
                          0.5555555555555556,
                          "#d8576b"
                        ],
                        [
                          0.6666666666666666,
                          "#ed7953"
                        ],
                        [
                          0.7777777777777778,
                          "#fb9f3a"
                        ],
                        [
                          0.8888888888888888,
                          "#fdca26"
                        ],
                        [
                          1,
                          "#f0f921"
                        ]
                      ]
                    },
                    "colorway": [
                      "#636efa",
                      "#EF553B",
                      "#00cc96",
                      "#ab63fa",
                      "#FFA15A",
                      "#19d3f3",
                      "#FF6692",
                      "#B6E880",
                      "#FF97FF",
                      "#FECB52"
                    ],
                    "font": {
                      "color": "#2a3f5f"
                    },
                    "geo": {
                      "bgcolor": "white",
                      "lakecolor": "white",
                      "landcolor": "#E5ECF6",
                      "showlakes": true,
                      "showland": true,
                      "subunitcolor": "white"
                    },
                    "hoverlabel": {
                      "align": "left"
                    },
                    "hovermode": "closest",
                    "mapbox": {
                      "style": "light"
                    },
                    "paper_bgcolor": "white",
                    "plot_bgcolor": "#E5ECF6",
                    "polar": {
                      "angularaxis": {
                        "gridcolor": "white",
                        "linecolor": "white",
                        "ticks": ""
                      },
                      "bgcolor": "#E5ECF6",
                      "radialaxis": {
                        "gridcolor": "white",
                        "linecolor": "white",
                        "ticks": ""
                      }
                    },
                    "scene": {
                      "xaxis": {
                        "backgroundcolor": "#E5ECF6",
                        "gridcolor": "white",
                        "gridwidth": 2,
                        "linecolor": "white",
                        "showbackground": true,
                        "ticks": "",
                        "zerolinecolor": "white"
                      },
                      "yaxis": {
                        "backgroundcolor": "#E5ECF6",
                        "gridcolor": "white",
                        "gridwidth": 2,
                        "linecolor": "white",
                        "showbackground": true,
                        "ticks": "",
                        "zerolinecolor": "white"
                      },
                      "zaxis": {
                        "backgroundcolor": "#E5ECF6",
                        "gridcolor": "white",
                        "gridwidth": 2,
                        "linecolor": "white",
                        "showbackground": true,
                        "ticks": "",
                        "zerolinecolor": "white"
                      }
                    },
                    "shapedefaults": {
                      "line": {
                        "color": "#2a3f5f"
                      }
                    },
                    "ternary": {
                      "aaxis": {
                        "gridcolor": "white",
                        "linecolor": "white",
                        "ticks": ""
                      },
                      "baxis": {
                        "gridcolor": "white",
                        "linecolor": "white",
                        "ticks": ""
                      },
                      "bgcolor": "#E5ECF6",
                      "caxis": {
                        "gridcolor": "white",
                        "linecolor": "white",
                        "ticks": ""
                      }
                    },
                    "title": {
                      "x": 0.05
                    },
                    "xaxis": {
                      "automargin": true,
                      "gridcolor": "white",
                      "linecolor": "white",
                      "ticks": "",
                      "title": {
                        "standoff": 15
                      },
                      "zerolinecolor": "white",
                      "zerolinewidth": 2
                    },
                    "yaxis": {
                      "automargin": true,
                      "gridcolor": "white",
                      "linecolor": "white",
                      "ticks": "",
                      "title": {
                        "standoff": 15
                      },
                      "zerolinecolor": "white",
                      "zerolinewidth": 2
                    }
                  }
                },
                "title": {
                  "text": "Applicant Income vs Loan Amount"
                },
                "xaxis": {
                  "anchor": "y",
                  "domain": [
                    0,
                    1
                  ],
                  "title": {
                    "text": "ApplicantIncome"
                  }
                },
                "yaxis": {
                  "anchor": "x",
                  "domain": [
                    0,
                    1
                  ],
                  "title": {
                    "text": "LoanAmount"
                  }
                }
              }
            }
          },
          "metadata": {},
          "output_type": "display_data"
        }
      ],
      "source": [
        "fig = px.scatter(train, x='ApplicantIncome', y='LoanAmount', color='Loan_Status', size='CoapplicantIncome',\n",
        "                 hover_data=['Gender', 'Married', 'Education'],\n",
        "                 title='Applicant Income vs Loan Amount')\n",
        "fig.show()"
      ]
    },
    {
      "cell_type": "markdown",
      "metadata": {},
      "source": [
        "### Loan Status by Category"
      ]
    },
    {
      "cell_type": "code",
      "execution_count": 26,
      "metadata": {
        "colab": {
          "base_uri": "https://localhost:8080/",
          "height": 617
        },
        "id": "w3YyUkekStTf",
        "outputId": "93731dc9-b694-43ce-995d-b5a9a440b2c9"
      },
      "outputs": [
        {
          "data": {
            "application/vnd.plotly.v1+json": {
              "config": {
                "plotlyServerURL": "https://plot.ly"
              },
              "data": [
                {
                  "name": "Approved",
                  "offsetgroup": "0",
                  "type": "bar",
                  "x": [
                    "No",
                    "Yes"
                  ],
                  "y": [
                    134,
                    288
                  ]
                },
                {
                  "name": "Not Approved",
                  "offsetgroup": "0",
                  "type": "bar",
                  "x": [
                    "No",
                    "Yes"
                  ],
                  "y": [
                    79,
                    113
                  ]
                },
                {
                  "name": "Approved",
                  "offsetgroup": "0",
                  "type": "bar",
                  "visible": false,
                  "x": [
                    "Graduate",
                    "Not Graduate"
                  ],
                  "y": [
                    340,
                    82
                  ]
                },
                {
                  "name": "Not Approved",
                  "offsetgroup": "0",
                  "type": "bar",
                  "visible": false,
                  "x": [
                    "Graduate",
                    "Not Graduate"
                  ],
                  "y": [
                    140,
                    52
                  ]
                },
                {
                  "name": "Approved",
                  "offsetgroup": "0",
                  "type": "bar",
                  "visible": false,
                  "x": [
                    "No",
                    "Yes"
                  ],
                  "y": [
                    366,
                    56
                  ]
                },
                {
                  "name": "Not Approved",
                  "offsetgroup": "0",
                  "type": "bar",
                  "visible": false,
                  "x": [
                    "No",
                    "Yes"
                  ],
                  "y": [
                    165,
                    27
                  ]
                },
                {
                  "name": "Approved",
                  "offsetgroup": "0",
                  "type": "bar",
                  "visible": false,
                  "x": [
                    0,
                    1
                  ],
                  "y": [
                    8,
                    414
                  ]
                },
                {
                  "name": "Not Approved",
                  "offsetgroup": "0",
                  "type": "bar",
                  "visible": false,
                  "x": [
                    0,
                    1
                  ],
                  "y": [
                    83,
                    109
                  ]
                },
                {
                  "name": "Approved",
                  "offsetgroup": "0",
                  "type": "bar",
                  "visible": false,
                  "x": [
                    "Rural",
                    "Semiurban",
                    "Urban"
                  ],
                  "y": [
                    110,
                    179,
                    133
                  ]
                },
                {
                  "name": "Not Approved",
                  "offsetgroup": "0",
                  "type": "bar",
                  "visible": false,
                  "x": [
                    "Rural",
                    "Semiurban",
                    "Urban"
                  ],
                  "y": [
                    69,
                    54,
                    69
                  ]
                }
              ],
              "layout": {
                "barmode": "stack",
                "height": 600,
                "legend": {
                  "orientation": "h",
                  "x": 1,
                  "xanchor": "right",
                  "y": 1.02,
                  "yanchor": "bottom"
                },
                "margin": {
                  "t": 120
                },
                "template": {
                  "data": {
                    "bar": [
                      {
                        "error_x": {
                          "color": "#2a3f5f"
                        },
                        "error_y": {
                          "color": "#2a3f5f"
                        },
                        "marker": {
                          "line": {
                            "color": "#E5ECF6",
                            "width": 0.5
                          },
                          "pattern": {
                            "fillmode": "overlay",
                            "size": 10,
                            "solidity": 0.2
                          }
                        },
                        "type": "bar"
                      }
                    ],
                    "barpolar": [
                      {
                        "marker": {
                          "line": {
                            "color": "#E5ECF6",
                            "width": 0.5
                          },
                          "pattern": {
                            "fillmode": "overlay",
                            "size": 10,
                            "solidity": 0.2
                          }
                        },
                        "type": "barpolar"
                      }
                    ],
                    "carpet": [
                      {
                        "aaxis": {
                          "endlinecolor": "#2a3f5f",
                          "gridcolor": "white",
                          "linecolor": "white",
                          "minorgridcolor": "white",
                          "startlinecolor": "#2a3f5f"
                        },
                        "baxis": {
                          "endlinecolor": "#2a3f5f",
                          "gridcolor": "white",
                          "linecolor": "white",
                          "minorgridcolor": "white",
                          "startlinecolor": "#2a3f5f"
                        },
                        "type": "carpet"
                      }
                    ],
                    "choropleth": [
                      {
                        "colorbar": {
                          "outlinewidth": 0,
                          "ticks": ""
                        },
                        "type": "choropleth"
                      }
                    ],
                    "contour": [
                      {
                        "colorbar": {
                          "outlinewidth": 0,
                          "ticks": ""
                        },
                        "colorscale": [
                          [
                            0,
                            "#0d0887"
                          ],
                          [
                            0.1111111111111111,
                            "#46039f"
                          ],
                          [
                            0.2222222222222222,
                            "#7201a8"
                          ],
                          [
                            0.3333333333333333,
                            "#9c179e"
                          ],
                          [
                            0.4444444444444444,
                            "#bd3786"
                          ],
                          [
                            0.5555555555555556,
                            "#d8576b"
                          ],
                          [
                            0.6666666666666666,
                            "#ed7953"
                          ],
                          [
                            0.7777777777777778,
                            "#fb9f3a"
                          ],
                          [
                            0.8888888888888888,
                            "#fdca26"
                          ],
                          [
                            1,
                            "#f0f921"
                          ]
                        ],
                        "type": "contour"
                      }
                    ],
                    "contourcarpet": [
                      {
                        "colorbar": {
                          "outlinewidth": 0,
                          "ticks": ""
                        },
                        "type": "contourcarpet"
                      }
                    ],
                    "heatmap": [
                      {
                        "colorbar": {
                          "outlinewidth": 0,
                          "ticks": ""
                        },
                        "colorscale": [
                          [
                            0,
                            "#0d0887"
                          ],
                          [
                            0.1111111111111111,
                            "#46039f"
                          ],
                          [
                            0.2222222222222222,
                            "#7201a8"
                          ],
                          [
                            0.3333333333333333,
                            "#9c179e"
                          ],
                          [
                            0.4444444444444444,
                            "#bd3786"
                          ],
                          [
                            0.5555555555555556,
                            "#d8576b"
                          ],
                          [
                            0.6666666666666666,
                            "#ed7953"
                          ],
                          [
                            0.7777777777777778,
                            "#fb9f3a"
                          ],
                          [
                            0.8888888888888888,
                            "#fdca26"
                          ],
                          [
                            1,
                            "#f0f921"
                          ]
                        ],
                        "type": "heatmap"
                      }
                    ],
                    "heatmapgl": [
                      {
                        "colorbar": {
                          "outlinewidth": 0,
                          "ticks": ""
                        },
                        "colorscale": [
                          [
                            0,
                            "#0d0887"
                          ],
                          [
                            0.1111111111111111,
                            "#46039f"
                          ],
                          [
                            0.2222222222222222,
                            "#7201a8"
                          ],
                          [
                            0.3333333333333333,
                            "#9c179e"
                          ],
                          [
                            0.4444444444444444,
                            "#bd3786"
                          ],
                          [
                            0.5555555555555556,
                            "#d8576b"
                          ],
                          [
                            0.6666666666666666,
                            "#ed7953"
                          ],
                          [
                            0.7777777777777778,
                            "#fb9f3a"
                          ],
                          [
                            0.8888888888888888,
                            "#fdca26"
                          ],
                          [
                            1,
                            "#f0f921"
                          ]
                        ],
                        "type": "heatmapgl"
                      }
                    ],
                    "histogram": [
                      {
                        "marker": {
                          "pattern": {
                            "fillmode": "overlay",
                            "size": 10,
                            "solidity": 0.2
                          }
                        },
                        "type": "histogram"
                      }
                    ],
                    "histogram2d": [
                      {
                        "colorbar": {
                          "outlinewidth": 0,
                          "ticks": ""
                        },
                        "colorscale": [
                          [
                            0,
                            "#0d0887"
                          ],
                          [
                            0.1111111111111111,
                            "#46039f"
                          ],
                          [
                            0.2222222222222222,
                            "#7201a8"
                          ],
                          [
                            0.3333333333333333,
                            "#9c179e"
                          ],
                          [
                            0.4444444444444444,
                            "#bd3786"
                          ],
                          [
                            0.5555555555555556,
                            "#d8576b"
                          ],
                          [
                            0.6666666666666666,
                            "#ed7953"
                          ],
                          [
                            0.7777777777777778,
                            "#fb9f3a"
                          ],
                          [
                            0.8888888888888888,
                            "#fdca26"
                          ],
                          [
                            1,
                            "#f0f921"
                          ]
                        ],
                        "type": "histogram2d"
                      }
                    ],
                    "histogram2dcontour": [
                      {
                        "colorbar": {
                          "outlinewidth": 0,
                          "ticks": ""
                        },
                        "colorscale": [
                          [
                            0,
                            "#0d0887"
                          ],
                          [
                            0.1111111111111111,
                            "#46039f"
                          ],
                          [
                            0.2222222222222222,
                            "#7201a8"
                          ],
                          [
                            0.3333333333333333,
                            "#9c179e"
                          ],
                          [
                            0.4444444444444444,
                            "#bd3786"
                          ],
                          [
                            0.5555555555555556,
                            "#d8576b"
                          ],
                          [
                            0.6666666666666666,
                            "#ed7953"
                          ],
                          [
                            0.7777777777777778,
                            "#fb9f3a"
                          ],
                          [
                            0.8888888888888888,
                            "#fdca26"
                          ],
                          [
                            1,
                            "#f0f921"
                          ]
                        ],
                        "type": "histogram2dcontour"
                      }
                    ],
                    "mesh3d": [
                      {
                        "colorbar": {
                          "outlinewidth": 0,
                          "ticks": ""
                        },
                        "type": "mesh3d"
                      }
                    ],
                    "parcoords": [
                      {
                        "line": {
                          "colorbar": {
                            "outlinewidth": 0,
                            "ticks": ""
                          }
                        },
                        "type": "parcoords"
                      }
                    ],
                    "pie": [
                      {
                        "automargin": true,
                        "type": "pie"
                      }
                    ],
                    "scatter": [
                      {
                        "fillpattern": {
                          "fillmode": "overlay",
                          "size": 10,
                          "solidity": 0.2
                        },
                        "type": "scatter"
                      }
                    ],
                    "scatter3d": [
                      {
                        "line": {
                          "colorbar": {
                            "outlinewidth": 0,
                            "ticks": ""
                          }
                        },
                        "marker": {
                          "colorbar": {
                            "outlinewidth": 0,
                            "ticks": ""
                          }
                        },
                        "type": "scatter3d"
                      }
                    ],
                    "scattercarpet": [
                      {
                        "marker": {
                          "colorbar": {
                            "outlinewidth": 0,
                            "ticks": ""
                          }
                        },
                        "type": "scattercarpet"
                      }
                    ],
                    "scattergeo": [
                      {
                        "marker": {
                          "colorbar": {
                            "outlinewidth": 0,
                            "ticks": ""
                          }
                        },
                        "type": "scattergeo"
                      }
                    ],
                    "scattergl": [
                      {
                        "marker": {
                          "colorbar": {
                            "outlinewidth": 0,
                            "ticks": ""
                          }
                        },
                        "type": "scattergl"
                      }
                    ],
                    "scattermapbox": [
                      {
                        "marker": {
                          "colorbar": {
                            "outlinewidth": 0,
                            "ticks": ""
                          }
                        },
                        "type": "scattermapbox"
                      }
                    ],
                    "scatterpolar": [
                      {
                        "marker": {
                          "colorbar": {
                            "outlinewidth": 0,
                            "ticks": ""
                          }
                        },
                        "type": "scatterpolar"
                      }
                    ],
                    "scatterpolargl": [
                      {
                        "marker": {
                          "colorbar": {
                            "outlinewidth": 0,
                            "ticks": ""
                          }
                        },
                        "type": "scatterpolargl"
                      }
                    ],
                    "scatterternary": [
                      {
                        "marker": {
                          "colorbar": {
                            "outlinewidth": 0,
                            "ticks": ""
                          }
                        },
                        "type": "scatterternary"
                      }
                    ],
                    "surface": [
                      {
                        "colorbar": {
                          "outlinewidth": 0,
                          "ticks": ""
                        },
                        "colorscale": [
                          [
                            0,
                            "#0d0887"
                          ],
                          [
                            0.1111111111111111,
                            "#46039f"
                          ],
                          [
                            0.2222222222222222,
                            "#7201a8"
                          ],
                          [
                            0.3333333333333333,
                            "#9c179e"
                          ],
                          [
                            0.4444444444444444,
                            "#bd3786"
                          ],
                          [
                            0.5555555555555556,
                            "#d8576b"
                          ],
                          [
                            0.6666666666666666,
                            "#ed7953"
                          ],
                          [
                            0.7777777777777778,
                            "#fb9f3a"
                          ],
                          [
                            0.8888888888888888,
                            "#fdca26"
                          ],
                          [
                            1,
                            "#f0f921"
                          ]
                        ],
                        "type": "surface"
                      }
                    ],
                    "table": [
                      {
                        "cells": {
                          "fill": {
                            "color": "#EBF0F8"
                          },
                          "line": {
                            "color": "white"
                          }
                        },
                        "header": {
                          "fill": {
                            "color": "#C8D4E3"
                          },
                          "line": {
                            "color": "white"
                          }
                        },
                        "type": "table"
                      }
                    ]
                  },
                  "layout": {
                    "annotationdefaults": {
                      "arrowcolor": "#2a3f5f",
                      "arrowhead": 0,
                      "arrowwidth": 1
                    },
                    "autotypenumbers": "strict",
                    "coloraxis": {
                      "colorbar": {
                        "outlinewidth": 0,
                        "ticks": ""
                      }
                    },
                    "colorscale": {
                      "diverging": [
                        [
                          0,
                          "#8e0152"
                        ],
                        [
                          0.1,
                          "#c51b7d"
                        ],
                        [
                          0.2,
                          "#de77ae"
                        ],
                        [
                          0.3,
                          "#f1b6da"
                        ],
                        [
                          0.4,
                          "#fde0ef"
                        ],
                        [
                          0.5,
                          "#f7f7f7"
                        ],
                        [
                          0.6,
                          "#e6f5d0"
                        ],
                        [
                          0.7,
                          "#b8e186"
                        ],
                        [
                          0.8,
                          "#7fbc41"
                        ],
                        [
                          0.9,
                          "#4d9221"
                        ],
                        [
                          1,
                          "#276419"
                        ]
                      ],
                      "sequential": [
                        [
                          0,
                          "#0d0887"
                        ],
                        [
                          0.1111111111111111,
                          "#46039f"
                        ],
                        [
                          0.2222222222222222,
                          "#7201a8"
                        ],
                        [
                          0.3333333333333333,
                          "#9c179e"
                        ],
                        [
                          0.4444444444444444,
                          "#bd3786"
                        ],
                        [
                          0.5555555555555556,
                          "#d8576b"
                        ],
                        [
                          0.6666666666666666,
                          "#ed7953"
                        ],
                        [
                          0.7777777777777778,
                          "#fb9f3a"
                        ],
                        [
                          0.8888888888888888,
                          "#fdca26"
                        ],
                        [
                          1,
                          "#f0f921"
                        ]
                      ],
                      "sequentialminus": [
                        [
                          0,
                          "#0d0887"
                        ],
                        [
                          0.1111111111111111,
                          "#46039f"
                        ],
                        [
                          0.2222222222222222,
                          "#7201a8"
                        ],
                        [
                          0.3333333333333333,
                          "#9c179e"
                        ],
                        [
                          0.4444444444444444,
                          "#bd3786"
                        ],
                        [
                          0.5555555555555556,
                          "#d8576b"
                        ],
                        [
                          0.6666666666666666,
                          "#ed7953"
                        ],
                        [
                          0.7777777777777778,
                          "#fb9f3a"
                        ],
                        [
                          0.8888888888888888,
                          "#fdca26"
                        ],
                        [
                          1,
                          "#f0f921"
                        ]
                      ]
                    },
                    "colorway": [
                      "#636efa",
                      "#EF553B",
                      "#00cc96",
                      "#ab63fa",
                      "#FFA15A",
                      "#19d3f3",
                      "#FF6692",
                      "#B6E880",
                      "#FF97FF",
                      "#FECB52"
                    ],
                    "font": {
                      "color": "#2a3f5f"
                    },
                    "geo": {
                      "bgcolor": "white",
                      "lakecolor": "white",
                      "landcolor": "#E5ECF6",
                      "showlakes": true,
                      "showland": true,
                      "subunitcolor": "white"
                    },
                    "hoverlabel": {
                      "align": "left"
                    },
                    "hovermode": "closest",
                    "mapbox": {
                      "style": "light"
                    },
                    "paper_bgcolor": "white",
                    "plot_bgcolor": "#E5ECF6",
                    "polar": {
                      "angularaxis": {
                        "gridcolor": "white",
                        "linecolor": "white",
                        "ticks": ""
                      },
                      "bgcolor": "#E5ECF6",
                      "radialaxis": {
                        "gridcolor": "white",
                        "linecolor": "white",
                        "ticks": ""
                      }
                    },
                    "scene": {
                      "xaxis": {
                        "backgroundcolor": "#E5ECF6",
                        "gridcolor": "white",
                        "gridwidth": 2,
                        "linecolor": "white",
                        "showbackground": true,
                        "ticks": "",
                        "zerolinecolor": "white"
                      },
                      "yaxis": {
                        "backgroundcolor": "#E5ECF6",
                        "gridcolor": "white",
                        "gridwidth": 2,
                        "linecolor": "white",
                        "showbackground": true,
                        "ticks": "",
                        "zerolinecolor": "white"
                      },
                      "zaxis": {
                        "backgroundcolor": "#E5ECF6",
                        "gridcolor": "white",
                        "gridwidth": 2,
                        "linecolor": "white",
                        "showbackground": true,
                        "ticks": "",
                        "zerolinecolor": "white"
                      }
                    },
                    "shapedefaults": {
                      "line": {
                        "color": "#2a3f5f"
                      }
                    },
                    "ternary": {
                      "aaxis": {
                        "gridcolor": "white",
                        "linecolor": "white",
                        "ticks": ""
                      },
                      "baxis": {
                        "gridcolor": "white",
                        "linecolor": "white",
                        "ticks": ""
                      },
                      "bgcolor": "#E5ECF6",
                      "caxis": {
                        "gridcolor": "white",
                        "linecolor": "white",
                        "ticks": ""
                      }
                    },
                    "title": {
                      "x": 0.05
                    },
                    "xaxis": {
                      "automargin": true,
                      "gridcolor": "white",
                      "linecolor": "white",
                      "ticks": "",
                      "title": {
                        "standoff": 15
                      },
                      "zerolinecolor": "white",
                      "zerolinewidth": 2
                    },
                    "yaxis": {
                      "automargin": true,
                      "gridcolor": "white",
                      "linecolor": "white",
                      "ticks": "",
                      "title": {
                        "standoff": 15
                      },
                      "zerolinecolor": "white",
                      "zerolinewidth": 2
                    }
                  }
                },
                "title": {
                  "text": "Loan Status by Category",
                  "x": 0.5,
                  "xanchor": "center",
                  "y": 0.95,
                  "yanchor": "top"
                },
                "updatemenus": [
                  {
                    "active": 0,
                    "buttons": [
                      {
                        "args": [
                          {
                            "x": [
                              [
                                "No",
                                "Yes"
                              ],
                              [
                                "No",
                                "Yes"
                              ]
                            ],
                            "y": [
                              [
                                134,
                                288
                              ],
                              [
                                79,
                                113
                              ]
                            ]
                          }
                        ],
                        "label": "Married",
                        "method": "update"
                      },
                      {
                        "args": [
                          {
                            "x": [
                              [
                                "Graduate",
                                "Not Graduate"
                              ],
                              [
                                "Graduate",
                                "Not Graduate"
                              ]
                            ],
                            "y": [
                              [
                                340,
                                82
                              ],
                              [
                                140,
                                52
                              ]
                            ]
                          }
                        ],
                        "label": "Education",
                        "method": "update"
                      },
                      {
                        "args": [
                          {
                            "x": [
                              [
                                "No",
                                "Yes"
                              ],
                              [
                                "No",
                                "Yes"
                              ]
                            ],
                            "y": [
                              [
                                366,
                                56
                              ],
                              [
                                165,
                                27
                              ]
                            ]
                          }
                        ],
                        "label": "Self_Employed",
                        "method": "update"
                      },
                      {
                        "args": [
                          {
                            "x": [
                              [
                                0,
                                1
                              ],
                              [
                                0,
                                1
                              ]
                            ],
                            "y": [
                              [
                                8,
                                414
                              ],
                              [
                                83,
                                109
                              ]
                            ]
                          }
                        ],
                        "label": "Credit_History",
                        "method": "update"
                      },
                      {
                        "args": [
                          {
                            "x": [
                              [
                                "Rural",
                                "Semiurban",
                                "Urban"
                              ],
                              [
                                "Rural",
                                "Semiurban",
                                "Urban"
                              ]
                            ],
                            "y": [
                              [
                                110,
                                179,
                                133
                              ],
                              [
                                69,
                                54,
                                69
                              ]
                            ]
                          }
                        ],
                        "label": "Property_Area",
                        "method": "update"
                      }
                    ],
                    "x": 0.1,
                    "xanchor": "left",
                    "y": 1.15,
                    "yanchor": "top"
                  }
                ],
                "width": 800,
                "xaxis": {
                  "anchor": "y",
                  "domain": [
                    0,
                    1
                  ],
                  "title": {
                    "text": "Category"
                  }
                },
                "yaxis": {
                  "anchor": "x",
                  "domain": [
                    0,
                    1
                  ],
                  "title": {
                    "text": "Count of Records"
                  }
                }
              }
            }
          },
          "metadata": {},
          "output_type": "display_data"
        }
      ],
      "source": [
        "import plotly.graph_objects as go\n",
        "from plotly.subplots import make_subplots\n",
        "\n",
        "categories = ['Married', 'Education', 'Self_Employed', 'Credit_History', 'Property_Area']\n",
        "\n",
        "fig = make_subplots(rows=1, cols=1)\n",
        "\n",
        "dropdown_menu = []\n",
        "\n",
        "for category in categories:\n",
        "    counts = train.groupby([category, 'Loan_Status']).size().unstack(fill_value=0)\n",
        "\n",
        "    trace = go.Bar(x=counts.index, y=counts['Y'], name='Approved', offsetgroup=0)\n",
        "    trace2 = go.Bar(x=counts.index, y=counts['N'], name='Not Approved', offsetgroup=0)\n",
        "\n",
        "    dropdown_menu.append({'method': 'update',\n",
        "                          'label': category,\n",
        "                          'args': [{'x': [counts.index, counts.index],\n",
        "                                    'y': [counts['Y'], counts['N']]}]})\n",
        "\n",
        "    fig.add_trace(trace)\n",
        "    fig.add_trace(trace2)\n",
        "\n",
        "fig.update_layout(\n",
        "    updatemenus=[{\n",
        "        'active': 0,\n",
        "        'buttons': dropdown_menu,\n",
        "        'x': 0.1,\n",
        "        'y': 1.15,\n",
        "        'xanchor': 'left',\n",
        "        'yanchor': 'top',\n",
        "    }],\n",
        "    barmode='stack',\n",
        "    height=600,\n",
        "    width=800,\n",
        "    title={\n",
        "        'text': \"Loan Status by Category\",\n",
        "        'y': 0.95,\n",
        "        'x': 0.5,\n",
        "        'xanchor': 'center',\n",
        "        'yanchor': 'top'\n",
        "    },\n",
        "    xaxis_title=\"Category\",\n",
        "    yaxis_title=\"Count of Records\",\n",
        "    legend=dict(\n",
        "        orientation=\"h\",\n",
        "        yanchor=\"bottom\",\n",
        "        y=1.02,\n",
        "        xanchor=\"right\",\n",
        "        x=1\n",
        "    ),\n",
        "    margin=dict(t=120)\n",
        ")\n",
        "\n",
        "for i in range(2, len(fig.data)):\n",
        "    fig.data[i].visible = False\n",
        "\n",
        "fig.show()"
      ]
    },
    {
      "cell_type": "markdown",
      "metadata": {},
      "source": [
        "### Correlation between numerical variables"
      ]
    },
    {
      "cell_type": "code",
      "execution_count": 27,
      "metadata": {
        "id": "ZFOpIriYY-9G"
      },
      "outputs": [],
      "source": [
        "train['Dependents'].replace('3+', 3, inplace=True)\n",
        "predict['Dependents'].replace('3+', 3, inplace=True)\n",
        "train['Loan_Status'].replace('N', 0, inplace=True)\n",
        "train['Loan_Status'].replace('Y', 1, inplace=True)"
      ]
    },
    {
      "cell_type": "code",
      "execution_count": 28,
      "metadata": {
        "colab": {
          "base_uri": "https://localhost:8080/",
          "height": 649
        },
        "id": "ST-T7JQAbt1d",
        "outputId": "40dfdbd2-d342-4528-eb96-cb50a672571f"
      },
      "outputs": [
        {
          "data": {
            "image/png": "[encoded data removed]",
            "text/plain": [
              "<Figure size 1200x600 with 2 Axes>"
            ]
          },
          "metadata": {},
          "output_type": "display_data"
        }
      ],
      "source": [
        "numeric_cols = train.select_dtypes(include=['int64', 'float64'])\n",
        "\n",
        "corr = numeric_cols.corr()\n",
        "\n",
        "plt.figure(figsize=(12, 6))\n",
        "sns.heatmap(corr, vmax=0.8, square=True, cmap='BuPu')\n",
        "plt.show()\n"
      ]
    },
    {
      "cell_type": "markdown",
      "metadata": {
        "id": "HWg-FrSXezOm"
      },
      "source": [
        "# Model Building"
      ]
    },
    {
      "cell_type": "code",
      "execution_count": 29,
      "metadata": {
        "id": "x3u9F-Ealb3C"
      },
      "outputs": [],
      "source": [
        "from sklearn.model_selection import train_test_split\n",
        "from sklearn.preprocessing import StandardScaler\n",
        "\n",
        "from sklearn.linear_model import LogisticRegression\n",
        "from sklearn.tree import DecisionTreeClassifier\n",
        "from sklearn.ensemble import RandomForestClassifier, BaggingClassifier\n",
        "from xgboost import XGBClassifier\n",
        "from sklearn.neural_network import MLPClassifier\n",
        "from sklearn.model_selection import GridSearchCV\n",
        "from sklearn.ensemble import RandomForestClassifier\n",
        "from sklearn.feature_selection import SelectFromModel\n",
        "from imblearn.over_sampling import SMOTE\n",
        "from sklearn.preprocessing import LabelEncoder, OneHotEncoder\n",
        "from sklearn.compose import ColumnTransformer\n",
        "\n",
        "import warnings\n",
        "from sklearn.exceptions import ConvergenceWarning\n",
        "import warnings\n",
        "warnings.simplefilter(action='ignore', category=FutureWarning)\n",
        "warnings.filterwarnings(\"ignore\", category=ConvergenceWarning)\n",
        "\n",
        "from sklearn.metrics import accuracy_score, classification_report, confusion_matrix\n",
        "from sklearn.model_selection import StratifiedKFold"
      ]
    },
    {
      "cell_type": "markdown",
      "metadata": {},
      "source": [
        "### Feature Engineering"
      ]
    },
    {
      "cell_type": "code",
      "execution_count": 30,
      "metadata": {
        "id": "NFEkmAKfGrue"
      },
      "outputs": [],
      "source": [
        "# Feature Engineering\n",
        "x = train.drop('Loan_Status', axis=1)\n",
        "y = train['Loan_Status']\n",
        "x['Income_Loan_Ratio'] = x['ApplicantIncome'] / (x['LoanAmount'] + 1)\n",
        "x['Total_Income'] = x['ApplicantIncome'] + x['CoapplicantIncome']\n",
        "x['Log_Total_Income'] = np.log1p(x['Total_Income'])\n",
        "\n",
        "# Convert object into string\n",
        "for col in x.select_dtypes(include=['object']).columns:\n",
        "    x[col] = x[col].astype(str)\n"
      ]
    },
    {
      "cell_type": "code",
      "execution_count": 32,
      "metadata": {
        "id": "uqWGDNdgGtzP"
      },
      "outputs": [],
      "source": [
        "# Seperate numerical features and categorical features\n",
        "numeric_features = x.select_dtypes(include=['int64', 'float64']).columns\n",
        "categorical_features = x.select_dtypes(include=['object']).columns\n",
        "\n",
        "# Create ColumnTransformer\n",
        "preprocessor = ColumnTransformer(\n",
        "    transformers=[\n",
        "        ('num', 'passthrough', numeric_features),\n",
        "        ('cat', OneHotEncoder(handle_unknown='ignore', sparse_output=False), categorical_features)\n",
        "    ])\n",
        "\n",
        "# fit and transform data\n",
        "x_encoded = preprocessor.fit_transform(x)\n",
        "\n",
        "# Get feature names\n",
        "feature_names = preprocessor.get_feature_names_out()\n",
        "\n",
        "# Create new DataFrame\n",
        "x_encoded = pd.DataFrame(x_encoded, columns=feature_names, index=x.index)\n"
      ]
    },
    {
      "cell_type": "code",
      "execution_count": 33,
      "metadata": {
        "id": "S3ATU0X7yLPt"
      },
      "outputs": [],
      "source": [
        "# Select feature\n",
        "selector = SelectFromModel(RandomForestClassifier(n_estimators=100, random_state=42))\n",
        "selector.fit(x_encoded, y)\n",
        "x_selected = selector.transform(x_encoded)\n",
        "\n",
        "selected_features = x_encoded.columns[selector.get_support()]\n",
        "\n",
        "# Create new DataFrame\n",
        "x_selected = pd.DataFrame(x_selected, columns=selected_features, index=x.index)\n"
      ]
    },
    {
      "cell_type": "markdown",
      "metadata": {},
      "source": [
        "### Split the dataset"
      ]
    },
    {
      "cell_type": "code",
      "execution_count": 34,
      "metadata": {
        "id": "h0YyTGIzHjFf"
      },
      "outputs": [],
      "source": [
        "x_train, x_test, y_train, y_test = train_test_split(x_selected, y, test_size=0.2, random_state=42)\n",
        "\n",
        "# SMOTE for imbalance\n",
        "smote = SMOTE(random_state=42)\n",
        "x_train_resampled, y_train_resampled = smote.fit_resample(x_train, y_train)\n",
        "\n",
        "# Standardization\n",
        "scaler = StandardScaler()\n",
        "x_train_resampled = scaler.fit_transform(x_train_resampled)\n",
        "x_test = scaler.transform(x_test)"
      ]
    },
    {
      "cell_type": "markdown",
      "metadata": {
        "id": "_zIW5Y4Tk4An"
      },
      "source": [
        "### Logistic Regression"
      ]
    },
    {
      "cell_type": "code",
      "execution_count": 36,
      "metadata": {
        "id": "NOt_is1zkYHS"
      },
      "outputs": [
        {
          "name": "stdout",
          "output_type": "stream",
          "text": [
            "Best parameters for Logistic Regression (Bagging): {'bootstrap': True, 'estimator__C': 0.15, 'max_samples': 0.8, 'n_estimators': 15}\n",
            "Best cross-validation accuracy for Logistic Regression (Bagging): 0.8085\n"
          ]
        }
      ],
      "source": [
        "# Logistic Regression with Bagging\n",
        "lg = BaggingClassifier(estimator=LogisticRegression(), random_state=42)\n",
        "lg_params = {\n",
        "    'estimator__C': [0.1, 0.15, 0.2, 0.5],\n",
        "    'n_estimators': [10, 12, 15, 20, 25],\n",
        "    'max_samples': [0.5, 0.8, 1, 2],\n",
        "    'bootstrap': [True, False]\n",
        "}\n",
        "\n",
        "grid_search = GridSearchCV(lg, lg_params, cv=5, scoring='accuracy')\n",
        "grid_search.fit(x_train, y_train)\n",
        "best_lg = grid_search.best_estimator_\n",
        "\n",
        "print(f'Best parameters for Logistic Regression (Bagging): {grid_search.best_params_}')\n",
        "print(f'Best cross-validation accuracy for Logistic Regression (Bagging): {grid_search.best_score_:.4f}')\n"
      ]
    },
    {
      "cell_type": "markdown",
      "metadata": {
        "id": "pOoMKCWblGUZ"
      },
      "source": [
        "### Decision Tree"
      ]
    },
    {
      "cell_type": "code",
      "execution_count": 37,
      "metadata": {
        "colab": {
          "base_uri": "https://localhost:8080/"
        },
        "id": "bCNYZXVDlFnG",
        "outputId": "47941ae9-6353-4cfe-d4b6-0764905a0cf2"
      },
      "outputs": [
        {
          "name": "stdout",
          "output_type": "stream",
          "text": [
            "Best parameters for Decision Tree (Bagging): {'bootstrap': False, 'estimator__max_depth': 10, 'estimator__min_samples_split': 10, 'max_samples': 0.3, 'n_estimators': 40}\n",
            "Best cross-validation accuracy for Decision Tree (Bagging): 0.8247\n"
          ]
        }
      ],
      "source": [
        "# Decision Tree with Bagging\n",
        "dt = BaggingClassifier(estimator=DecisionTreeClassifier(random_state=42), random_state=42)\n",
        "dt_params = {\n",
        "    'estimator__max_depth': [None, 5, 10, 20, 30],\n",
        "    'estimator__min_samples_split': [2, 5, 10, 15, 20],\n",
        "    'n_estimators': [20, 25, 30, 40, 50],\n",
        "    'max_samples': [0.1, 0.2, 0.3, 0.5, 0.8],\n",
        "    'bootstrap': [True, False]\n",
        "}\n",
        "\n",
        "grid_search = GridSearchCV(dt, dt_params, cv=5, scoring='accuracy')\n",
        "grid_search.fit(x_train, y_train)\n",
        "best_dt = grid_search.best_estimator_\n",
        "\n",
        "print(f'Best parameters for Decision Tree (Bagging): {grid_search.best_params_}')\n",
        "print(f'Best cross-validation accuracy for Decision Tree (Bagging): {grid_search.best_score_:.4f}')\n"
      ]
    },
    {
      "cell_type": "markdown",
      "metadata": {
        "id": "Qb1gSfJ8lsHS"
      },
      "source": [
        "### Random Forest"
      ]
    },
    {
      "cell_type": "code",
      "execution_count": 42,
      "metadata": {
        "colab": {
          "base_uri": "https://localhost:8080/",
          "height": 365
        },
        "id": "830tZUhilrl3",
        "outputId": "887612d8-2b57-41b5-e9dd-adea8fbddf40"
      },
      "outputs": [
        {
          "name": "stdout",
          "output_type": "stream",
          "text": [
            "Best parameters for Random Forest: {'bootstrap': True, 'max_depth': 10, 'min_samples_split': 15, 'n_estimators': 800}\n",
            "Best cross-validation accuracy for Random Forest: 0.8147\n"
          ]
        }
      ],
      "source": [
        "# Random Forest\n",
        "rf = RandomForestClassifier(random_state=42)\n",
        "rf_params = {\n",
        "    'n_estimators': [300, 500, 800, 1000],\n",
        "    'max_depth': [10, 12, 15, 20, 50],\n",
        "    'min_samples_split': [15, 20, 25, 30, 40],\n",
        "    'bootstrap': [True, False]\n",
        "}\n",
        "\n",
        "grid_search_rf = GridSearchCV(estimator=rf, param_grid=rf_params, cv=StratifiedKFold(n_splits=5, shuffle=True, random_state=42), scoring='accuracy')\n",
        "grid_search_rf.fit(x_train, y_train)\n",
        "\n",
        "best_rf = grid_search_rf.best_estimator_\n",
        "\n",
        "print(f'Best parameters for Random Forest: {grid_search_rf.best_params_}')\n",
        "print(f'Best cross-validation accuracy for Random Forest: {grid_search_rf.best_score_:.4f}')\n"
      ]
    },
    {
      "cell_type": "markdown",
      "metadata": {
        "id": "qDwa5g-5mDtj"
      },
      "source": [
        "### XGBoost"
      ]
    },
    {
      "cell_type": "code",
      "execution_count": 39,
      "metadata": {
        "id": "OqsoJ6jNlFpY"
      },
      "outputs": [
        {
          "name": "stdout",
          "output_type": "stream",
          "text": [
            "Best parameters for XGBoost: {'colsample_bytree': 1.0, 'gamma': 0, 'learning_rate': 0.001, 'max_depth': 1, 'n_estimators': 450, 'subsample': 0.8}\n",
            "Best cross-validation accuracy for XGBoost: 0.8146\n"
          ]
        }
      ],
      "source": [
        "# XGBoost\n",
        "xgb = XGBClassifier(random_state=42)\n",
        "xgb_params = {\n",
        "    'n_estimators': [400, 420, 450, 470, 500],\n",
        "    'learning_rate': [0.0005, 0.0008, 0.001],\n",
        "    'max_depth': [1, 2, 3],\n",
        "    'gamma': [0, 0.1, 0.2],\n",
        "    'subsample': [0.8, 0.9, 1.0],\n",
        "    'colsample_bytree': [0.8, 0.9, 1.0]\n",
        "}\n",
        "\n",
        "grid_search_xgb = GridSearchCV(xgb, xgb_params, cv=5, scoring='accuracy')\n",
        "grid_search_xgb.fit(x_train, y_train)\n",
        "\n",
        "best_xgb = grid_search_xgb.best_estimator_\n",
        "\n",
        "print(f'Best parameters for XGBoost: {grid_search_xgb.best_params_}')\n",
        "print(f'Best cross-validation accuracy for XGBoost: {grid_search_xgb.best_score_:.4f}')"
      ]
    },
    {
      "cell_type": "markdown",
      "metadata": {},
      "source": [
        "### Feature Importance"
      ]
    },
    {
      "cell_type": "code",
      "execution_count": 40,
      "metadata": {
        "id": "GOniWZsvhfPa"
      },
      "outputs": [
        {
          "name": "stdout",
          "output_type": "stream",
          "text": [
            "\n",
            "Random Forest Feature Importance:\n",
            "                  feature  importance\n",
            "3     num__Credit_History    0.445891\n",
            "6   num__Log_Total_Income    0.108071\n",
            "5       num__Total_Income    0.108034\n",
            "4  num__Income_Loan_Ratio    0.097319\n",
            "0    num__ApplicantIncome    0.090368\n",
            "2         num__LoanAmount    0.089706\n",
            "1  num__CoapplicantIncome    0.060611\n",
            "\n",
            "XGBoost Feature Importance:\n",
            "                  feature  importance\n",
            "3     num__Credit_History         1.0\n",
            "0    num__ApplicantIncome         0.0\n",
            "1  num__CoapplicantIncome         0.0\n",
            "2         num__LoanAmount         0.0\n",
            "4  num__Income_Loan_Ratio         0.0\n",
            "5       num__Total_Income         0.0\n",
            "6   num__Log_Total_Income         0.0\n"
          ]
        }
      ],
      "source": [
        "\n",
        "if hasattr(best_rf, 'feature_importances_'):\n",
        "    importances = best_rf.feature_importances_\n",
        "    feature_names = selector.get_feature_names_out()\n",
        "    feature_importance = pd.DataFrame({'feature': feature_names, 'importance': importances})\n",
        "    feature_importance = feature_importance.sort_values('importance', ascending=False)\n",
        "    print(\"\\nRandom Forest Feature Importance:\")\n",
        "    print(feature_importance)\n",
        "\n",
        "if hasattr(best_xgb, 'feature_importances_'):\n",
        "    importances = best_xgb.feature_importances_\n",
        "    feature_names = selector.get_feature_names_out()\n",
        "    feature_importance = pd.DataFrame({'feature': feature_names, 'importance': importances})\n",
        "    feature_importance = feature_importance.sort_values('importance', ascending=False)\n",
        "    print(\"\\nXGBoost Feature Importance:\")\n",
        "    print(feature_importance)"
      ]
    },
    {
      "cell_type": "code",
      "execution_count": null,
      "metadata": {},
      "outputs": [],
      "source": []
    }
  ],
  "metadata": {
    "colab": {
      "provenance": []
    },
    "kernelspec": {
      "display_name": "base",
      "language": "python",
      "name": "python3"
    },
    "language_info": {
      "codemirror_mode": {
        "name": "ipython",
        "version": 3
      },
      "file_extension": ".py",
      "mimetype": "text/x-python",
      "name": "python",
      "nbconvert_exporter": "python",
      "pygments_lexer": "ipython3",
      "version": "3.12.4"
    }
  },
  "nbformat": 4,
  "nbformat_minor": 0
}
